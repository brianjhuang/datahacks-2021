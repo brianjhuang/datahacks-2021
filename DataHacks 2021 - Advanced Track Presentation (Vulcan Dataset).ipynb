{
 "cells": [
  {
   "cell_type": "markdown",
   "metadata": {
    "slideshow": {
     "slide_type": "slide"
    }
   },
   "source": [
    "# Vulcan Analytics Presentation - DataHacks 2021\n",
    "## Predicting the S&P 500 using various economic indexes\n",
    "##### Arunav Gupta, Brian Huang, Kyle Nero"
   ]
  },
  {
   "cell_type": "code",
   "execution_count": 3,
   "metadata": {
    "slideshow": {
     "slide_type": "skip"
    }
   },
   "outputs": [],
   "source": [
    "import plotly as plot\n",
    "import numpy as np\n",
    "import pandas as pd\n",
    "from prophet import Prophet"
   ]
  },
  {
   "cell_type": "markdown",
   "metadata": {
    "slideshow": {
     "slide_type": "slide"
    }
   },
   "source": [
    "# Abstract\n",
    "<p>\n",
    "    lorem ipsum\n",
    "    </p>"
   ]
  },
  {
   "cell_type": "markdown",
   "metadata": {
    "slideshow": {
     "slide_type": "slide"
    }
   },
   "source": [
    "# Data Cleaning and Pre-Processing"
   ]
  },
  {
   "cell_type": "markdown",
   "metadata": {},
   "source": [
    "- **Pivoting**: In order to format the data into a more usable manner, we pivotted the table to set the time series as columns and the observations as row values. This allowed us to visualize and access individual time series entries more effectively\n",
    "\n",
    "![Alt](pivot.png \"Pivot\")\n",
    "\n"
   ]
  },
  {
   "cell_type": "code",
   "execution_count": 8,
   "metadata": {
    "slideshow": {
     "slide_type": "skip"
    }
   },
   "outputs": [],
   "source": [
    "messy_obs = pd.read_csv(\"data/observations_train.csv\")\n",
    "# read the csv file\n",
    "\n",
    "messy_obs[\"date\"] = pd.to_datetime(messy_obs[\"date\"])\n",
    "# convert to date time"
   ]
  },
  {
   "cell_type": "markdown",
   "metadata": {
    "slideshow": {
     "slide_type": "slide"
    }
   },
   "source": [
    "- **Normalization**: The sixty-eight time series entries were given in a variety of units (Percentages, Exchange Rates, Unemployment Rates, Billions of Dollars), which meant normalization was neccesary to most effectively compare the different entries. "
   ]
  },
  {
   "cell_type": "code",
   "execution_count": 11,
   "metadata": {
    "slideshow": {
     "slide_type": "-"
    }
   },
   "outputs": [],
   "source": [
    "obs_pivot = messy_obs.pivot(values=\"value\", index=\"date\", columns=\"series_id\")\n",
    "# pivot the table\n",
    "\n",
    "normalize = lambda col: (col - col.mean()) / col.std()\n",
    "normed_obs = obs_pivot.apply(normalize, axis=0)\n",
    "# normalize data"
   ]
  },
  {
   "cell_type": "markdown",
   "metadata": {
    "slideshow": {
     "slide_type": "slide"
    }
   },
   "source": [
    "- **Dealing with Null Values**: While working with the data, there were an abundance of null values that had to be dealt with. In order to deal with these values, we back-filled all the data first and then forward filled the rest of the null values. We back filled generally due to the fact that most data in our set is collected at the end of the time period and reflects the previous time period, not the next time period. Forward filling dealt with what little discrepancies were left."
   ]
  },
  {
   "cell_type": "code",
   "execution_count": 10,
   "metadata": {},
   "outputs": [
    {
     "data": {
      "text/html": [
       "<div>\n",
       "<style scoped>\n",
       "    .dataframe tbody tr th:only-of-type {\n",
       "        vertical-align: middle;\n",
       "    }\n",
       "\n",
       "    .dataframe tbody tr th {\n",
       "        vertical-align: top;\n",
       "    }\n",
       "\n",
       "    .dataframe thead th {\n",
       "        text-align: right;\n",
       "    }\n",
       "</style>\n",
       "<table border=\"1\" class=\"dataframe\">\n",
       "  <thead>\n",
       "    <tr style=\"text-align: right;\">\n",
       "      <th>series_id</th>\n",
       "      <th>AAA10Y</th>\n",
       "      <th>ASEANTOT</th>\n",
       "      <th>BAA10Y</th>\n",
       "      <th>BUSAPPWNSAUS</th>\n",
       "      <th>BUSAPPWNSAUSYY</th>\n",
       "      <th>CBUSAPPWNSAUS</th>\n",
       "      <th>CBUSAPPWNSAUSYY</th>\n",
       "      <th>CUUR0000SA0R</th>\n",
       "      <th>DEXCHUS</th>\n",
       "      <th>DEXUSEU</th>\n",
       "      <th>...</th>\n",
       "      <th>PCUOMINOMIN</th>\n",
       "      <th>SFTPAGRM158SFRBSF</th>\n",
       "      <th>SP500</th>\n",
       "      <th>T10YIE</th>\n",
       "      <th>TEDRATE</th>\n",
       "      <th>TLAACBW027NBOG</th>\n",
       "      <th>TLBACBW027NBOG</th>\n",
       "      <th>TSIFRGHT</th>\n",
       "      <th>UNRATE</th>\n",
       "      <th>WLEMUINDXD</th>\n",
       "    </tr>\n",
       "    <tr>\n",
       "      <th>date</th>\n",
       "      <th></th>\n",
       "      <th></th>\n",
       "      <th></th>\n",
       "      <th></th>\n",
       "      <th></th>\n",
       "      <th></th>\n",
       "      <th></th>\n",
       "      <th></th>\n",
       "      <th></th>\n",
       "      <th></th>\n",
       "      <th></th>\n",
       "      <th></th>\n",
       "      <th></th>\n",
       "      <th></th>\n",
       "      <th></th>\n",
       "      <th></th>\n",
       "      <th></th>\n",
       "      <th></th>\n",
       "      <th></th>\n",
       "      <th></th>\n",
       "      <th></th>\n",
       "    </tr>\n",
       "  </thead>\n",
       "  <tbody>\n",
       "    <tr>\n",
       "      <th>2000-01-02</th>\n",
       "      <td>NaN</td>\n",
       "      <td>NaN</td>\n",
       "      <td>NaN</td>\n",
       "      <td>NaN</td>\n",
       "      <td>NaN</td>\n",
       "      <td>NaN</td>\n",
       "      <td>NaN</td>\n",
       "      <td>NaN</td>\n",
       "      <td>NaN</td>\n",
       "      <td>NaN</td>\n",
       "      <td>...</td>\n",
       "      <td>NaN</td>\n",
       "      <td>NaN</td>\n",
       "      <td>NaN</td>\n",
       "      <td>NaN</td>\n",
       "      <td>NaN</td>\n",
       "      <td>NaN</td>\n",
       "      <td>NaN</td>\n",
       "      <td>NaN</td>\n",
       "      <td>NaN</td>\n",
       "      <td>-0.066997</td>\n",
       "    </tr>\n",
       "    <tr>\n",
       "      <th>2000-01-03</th>\n",
       "      <td>-1.034676</td>\n",
       "      <td>NaN</td>\n",
       "      <td>-1.290420</td>\n",
       "      <td>NaN</td>\n",
       "      <td>NaN</td>\n",
       "      <td>NaN</td>\n",
       "      <td>NaN</td>\n",
       "      <td>NaN</td>\n",
       "      <td>1.218044</td>\n",
       "      <td>-1.153070</td>\n",
       "      <td>...</td>\n",
       "      <td>NaN</td>\n",
       "      <td>NaN</td>\n",
       "      <td>NaN</td>\n",
       "      <td>NaN</td>\n",
       "      <td>NaN</td>\n",
       "      <td>NaN</td>\n",
       "      <td>NaN</td>\n",
       "      <td>NaN</td>\n",
       "      <td>NaN</td>\n",
       "      <td>-0.101209</td>\n",
       "    </tr>\n",
       "    <tr>\n",
       "      <th>2000-01-04</th>\n",
       "      <td>-0.965665</td>\n",
       "      <td>NaN</td>\n",
       "      <td>-1.251178</td>\n",
       "      <td>NaN</td>\n",
       "      <td>NaN</td>\n",
       "      <td>NaN</td>\n",
       "      <td>NaN</td>\n",
       "      <td>NaN</td>\n",
       "      <td>1.218162</td>\n",
       "      <td>-1.064590</td>\n",
       "      <td>...</td>\n",
       "      <td>NaN</td>\n",
       "      <td>NaN</td>\n",
       "      <td>NaN</td>\n",
       "      <td>NaN</td>\n",
       "      <td>0.783933</td>\n",
       "      <td>NaN</td>\n",
       "      <td>NaN</td>\n",
       "      <td>NaN</td>\n",
       "      <td>NaN</td>\n",
       "      <td>1.874472</td>\n",
       "    </tr>\n",
       "    <tr>\n",
       "      <th>2000-01-05</th>\n",
       "      <td>-1.057680</td>\n",
       "      <td>NaN</td>\n",
       "      <td>-1.316581</td>\n",
       "      <td>NaN</td>\n",
       "      <td>NaN</td>\n",
       "      <td>NaN</td>\n",
       "      <td>NaN</td>\n",
       "      <td>NaN</td>\n",
       "      <td>1.218044</td>\n",
       "      <td>-1.049651</td>\n",
       "      <td>...</td>\n",
       "      <td>NaN</td>\n",
       "      <td>NaN</td>\n",
       "      <td>NaN</td>\n",
       "      <td>NaN</td>\n",
       "      <td>0.736376</td>\n",
       "      <td>-1.5885</td>\n",
       "      <td>-1.577472</td>\n",
       "      <td>NaN</td>\n",
       "      <td>NaN</td>\n",
       "      <td>-0.383635</td>\n",
       "    </tr>\n",
       "    <tr>\n",
       "      <th>2000-01-06</th>\n",
       "      <td>-1.080684</td>\n",
       "      <td>NaN</td>\n",
       "      <td>-1.316581</td>\n",
       "      <td>NaN</td>\n",
       "      <td>NaN</td>\n",
       "      <td>NaN</td>\n",
       "      <td>NaN</td>\n",
       "      <td>NaN</td>\n",
       "      <td>1.217926</td>\n",
       "      <td>-1.055971</td>\n",
       "      <td>...</td>\n",
       "      <td>NaN</td>\n",
       "      <td>NaN</td>\n",
       "      <td>NaN</td>\n",
       "      <td>NaN</td>\n",
       "      <td>0.807712</td>\n",
       "      <td>NaN</td>\n",
       "      <td>NaN</td>\n",
       "      <td>NaN</td>\n",
       "      <td>NaN</td>\n",
       "      <td>-0.409119</td>\n",
       "    </tr>\n",
       "  </tbody>\n",
       "</table>\n",
       "<p>5 rows × 68 columns</p>\n",
       "</div>"
      ],
      "text/plain": [
       "series_id     AAA10Y  ASEANTOT    BAA10Y  BUSAPPWNSAUS  BUSAPPWNSAUSYY  \\\n",
       "date                                                                     \n",
       "2000-01-02       NaN       NaN       NaN           NaN             NaN   \n",
       "2000-01-03 -1.034676       NaN -1.290420           NaN             NaN   \n",
       "2000-01-04 -0.965665       NaN -1.251178           NaN             NaN   \n",
       "2000-01-05 -1.057680       NaN -1.316581           NaN             NaN   \n",
       "2000-01-06 -1.080684       NaN -1.316581           NaN             NaN   \n",
       "\n",
       "series_id   CBUSAPPWNSAUS  CBUSAPPWNSAUSYY  CUUR0000SA0R   DEXCHUS   DEXUSEU  \\\n",
       "date                                                                           \n",
       "2000-01-02            NaN              NaN           NaN       NaN       NaN   \n",
       "2000-01-03            NaN              NaN           NaN  1.218044 -1.153070   \n",
       "2000-01-04            NaN              NaN           NaN  1.218162 -1.064590   \n",
       "2000-01-05            NaN              NaN           NaN  1.218044 -1.049651   \n",
       "2000-01-06            NaN              NaN           NaN  1.217926 -1.055971   \n",
       "\n",
       "series_id   ...  PCUOMINOMIN  SFTPAGRM158SFRBSF  SP500  T10YIE   TEDRATE  \\\n",
       "date        ...                                                            \n",
       "2000-01-02  ...          NaN                NaN    NaN     NaN       NaN   \n",
       "2000-01-03  ...          NaN                NaN    NaN     NaN       NaN   \n",
       "2000-01-04  ...          NaN                NaN    NaN     NaN  0.783933   \n",
       "2000-01-05  ...          NaN                NaN    NaN     NaN  0.736376   \n",
       "2000-01-06  ...          NaN                NaN    NaN     NaN  0.807712   \n",
       "\n",
       "series_id   TLAACBW027NBOG  TLBACBW027NBOG  TSIFRGHT  UNRATE  WLEMUINDXD  \n",
       "date                                                                      \n",
       "2000-01-02             NaN             NaN       NaN     NaN   -0.066997  \n",
       "2000-01-03             NaN             NaN       NaN     NaN   -0.101209  \n",
       "2000-01-04             NaN             NaN       NaN     NaN    1.874472  \n",
       "2000-01-05         -1.5885       -1.577472       NaN     NaN   -0.383635  \n",
       "2000-01-06             NaN             NaN       NaN     NaN   -0.409119  \n",
       "\n",
       "[5 rows x 68 columns]"
      ]
     },
     "execution_count": 10,
     "metadata": {},
     "output_type": "execute_result"
    }
   ],
   "source": [
    "normed_obs.head()"
   ]
  },
  {
   "cell_type": "code",
   "execution_count": 14,
   "metadata": {
    "slideshow": {
     "slide_type": "skip"
    }
   },
   "outputs": [],
   "source": [
    "normed_obs.fillna(method='bfill', inplace = True)\n",
    "normed_obs.fillna(method='ffill', inplace = True)"
   ]
  },
  {
   "cell_type": "markdown",
   "metadata": {
    "slideshow": {
     "slide_type": "slide"
    }
   },
   "source": [
    "- **Filtering out data**: We found that the S&P500 data did not start until 02-14-2011, so filtering out all the data that came before that date aided in getting rid of unneccesary noise. "
   ]
  },
  {
   "cell_type": "code",
   "execution_count": 16,
   "metadata": {
    "scrolled": true,
    "slideshow": {
     "slide_type": "-"
    }
   },
   "outputs": [
    {
     "data": {
      "text/html": [
       "<div>\n",
       "<style scoped>\n",
       "    .dataframe tbody tr th:only-of-type {\n",
       "        vertical-align: middle;\n",
       "    }\n",
       "\n",
       "    .dataframe tbody tr th {\n",
       "        vertical-align: top;\n",
       "    }\n",
       "\n",
       "    .dataframe thead th {\n",
       "        text-align: right;\n",
       "    }\n",
       "</style>\n",
       "<table border=\"1\" class=\"dataframe\">\n",
       "  <thead>\n",
       "    <tr style=\"text-align: right;\">\n",
       "      <th>series_id</th>\n",
       "      <th>AAA10Y</th>\n",
       "      <th>ASEANTOT</th>\n",
       "      <th>BAA10Y</th>\n",
       "      <th>BUSAPPWNSAUS</th>\n",
       "      <th>BUSAPPWNSAUSYY</th>\n",
       "      <th>CBUSAPPWNSAUS</th>\n",
       "      <th>CBUSAPPWNSAUSYY</th>\n",
       "      <th>CUUR0000SA0R</th>\n",
       "      <th>DEXCHUS</th>\n",
       "      <th>DEXUSEU</th>\n",
       "      <th>...</th>\n",
       "      <th>PCUOMINOMIN</th>\n",
       "      <th>SFTPAGRM158SFRBSF</th>\n",
       "      <th>SP500</th>\n",
       "      <th>T10YIE</th>\n",
       "      <th>TEDRATE</th>\n",
       "      <th>TLAACBW027NBOG</th>\n",
       "      <th>TLBACBW027NBOG</th>\n",
       "      <th>TSIFRGHT</th>\n",
       "      <th>UNRATE</th>\n",
       "      <th>WLEMUINDXD</th>\n",
       "    </tr>\n",
       "    <tr>\n",
       "      <th>date</th>\n",
       "      <th></th>\n",
       "      <th></th>\n",
       "      <th></th>\n",
       "      <th></th>\n",
       "      <th></th>\n",
       "      <th></th>\n",
       "      <th></th>\n",
       "      <th></th>\n",
       "      <th></th>\n",
       "      <th></th>\n",
       "      <th></th>\n",
       "      <th></th>\n",
       "      <th></th>\n",
       "      <th></th>\n",
       "      <th></th>\n",
       "      <th></th>\n",
       "      <th></th>\n",
       "      <th></th>\n",
       "      <th></th>\n",
       "      <th></th>\n",
       "      <th></th>\n",
       "    </tr>\n",
       "  </thead>\n",
       "  <tbody>\n",
       "    <tr>\n",
       "      <th>2011-02-14</th>\n",
       "      <td>-0.068511</td>\n",
       "      <td>1.424496</td>\n",
       "      <td>-0.191647</td>\n",
       "      <td>0.614001</td>\n",
       "      <td>0.263285</td>\n",
       "      <td>-0.14148</td>\n",
       "      <td>0.058255</td>\n",
       "      <td>-0.590029</td>\n",
       "      <td>-0.772034</td>\n",
       "      <td>0.753857</td>\n",
       "      <td>...</td>\n",
       "      <td>1.047525</td>\n",
       "      <td>-0.088386</td>\n",
       "      <td>-1.283833</td>\n",
       "      <td>0.475112</td>\n",
       "      <td>-0.619011</td>\n",
       "      <td>0.263166</td>\n",
       "      <td>0.235511</td>\n",
       "      <td>0.016147</td>\n",
       "      <td>1.637112</td>\n",
       "      <td>-0.360459</td>\n",
       "    </tr>\n",
       "    <tr>\n",
       "      <th>2011-02-15</th>\n",
       "      <td>0.069513</td>\n",
       "      <td>1.424496</td>\n",
       "      <td>-0.191647</td>\n",
       "      <td>0.614001</td>\n",
       "      <td>0.263285</td>\n",
       "      <td>-0.14148</td>\n",
       "      <td>0.058255</td>\n",
       "      <td>-0.590029</td>\n",
       "      <td>-0.781610</td>\n",
       "      <td>0.765348</td>\n",
       "      <td>...</td>\n",
       "      <td>1.047525</td>\n",
       "      <td>-0.088386</td>\n",
       "      <td>-1.294698</td>\n",
       "      <td>0.475112</td>\n",
       "      <td>-0.619011</td>\n",
       "      <td>0.263166</td>\n",
       "      <td>0.235511</td>\n",
       "      <td>0.016147</td>\n",
       "      <td>1.637112</td>\n",
       "      <td>-0.433198</td>\n",
       "    </tr>\n",
       "    <tr>\n",
       "      <th>2011-02-16</th>\n",
       "      <td>0.069513</td>\n",
       "      <td>1.424496</td>\n",
       "      <td>-0.191647</td>\n",
       "      <td>0.614001</td>\n",
       "      <td>0.263285</td>\n",
       "      <td>-0.14148</td>\n",
       "      <td>0.058255</td>\n",
       "      <td>-0.590029</td>\n",
       "      <td>-0.781610</td>\n",
       "      <td>0.795799</td>\n",
       "      <td>...</td>\n",
       "      <td>1.047525</td>\n",
       "      <td>-0.088386</td>\n",
       "      <td>-1.273750</td>\n",
       "      <td>0.401980</td>\n",
       "      <td>-0.595232</td>\n",
       "      <td>0.263166</td>\n",
       "      <td>0.235511</td>\n",
       "      <td>0.016147</td>\n",
       "      <td>1.637112</td>\n",
       "      <td>-0.206956</td>\n",
       "    </tr>\n",
       "    <tr>\n",
       "      <th>2011-02-17</th>\n",
       "      <td>0.138524</td>\n",
       "      <td>1.424496</td>\n",
       "      <td>-0.152405</td>\n",
       "      <td>0.614001</td>\n",
       "      <td>0.263285</td>\n",
       "      <td>-0.14148</td>\n",
       "      <td>0.058255</td>\n",
       "      <td>-0.590029</td>\n",
       "      <td>-0.785630</td>\n",
       "      <td>0.833145</td>\n",
       "      <td>...</td>\n",
       "      <td>1.047525</td>\n",
       "      <td>-0.088386</td>\n",
       "      <td>-1.263390</td>\n",
       "      <td>0.450735</td>\n",
       "      <td>-0.523896</td>\n",
       "      <td>0.295239</td>\n",
       "      <td>0.268779</td>\n",
       "      <td>0.016147</td>\n",
       "      <td>1.637112</td>\n",
       "      <td>-0.516571</td>\n",
       "    </tr>\n",
       "    <tr>\n",
       "      <th>2011-02-18</th>\n",
       "      <td>0.184532</td>\n",
       "      <td>1.424496</td>\n",
       "      <td>-0.126244</td>\n",
       "      <td>0.614001</td>\n",
       "      <td>0.263285</td>\n",
       "      <td>-0.14148</td>\n",
       "      <td>0.058255</td>\n",
       "      <td>-0.590029</td>\n",
       "      <td>-0.799699</td>\n",
       "      <td>0.868193</td>\n",
       "      <td>...</td>\n",
       "      <td>1.047525</td>\n",
       "      <td>-0.088386</td>\n",
       "      <td>-1.256886</td>\n",
       "      <td>0.621376</td>\n",
       "      <td>-0.547675</td>\n",
       "      <td>0.295239</td>\n",
       "      <td>0.268779</td>\n",
       "      <td>0.016147</td>\n",
       "      <td>1.637112</td>\n",
       "      <td>-0.540650</td>\n",
       "    </tr>\n",
       "  </tbody>\n",
       "</table>\n",
       "<p>5 rows × 68 columns</p>\n",
       "</div>"
      ],
      "text/plain": [
       "series_id     AAA10Y  ASEANTOT    BAA10Y  BUSAPPWNSAUS  BUSAPPWNSAUSYY  \\\n",
       "date                                                                     \n",
       "2011-02-14 -0.068511  1.424496 -0.191647      0.614001        0.263285   \n",
       "2011-02-15  0.069513  1.424496 -0.191647      0.614001        0.263285   \n",
       "2011-02-16  0.069513  1.424496 -0.191647      0.614001        0.263285   \n",
       "2011-02-17  0.138524  1.424496 -0.152405      0.614001        0.263285   \n",
       "2011-02-18  0.184532  1.424496 -0.126244      0.614001        0.263285   \n",
       "\n",
       "series_id   CBUSAPPWNSAUS  CBUSAPPWNSAUSYY  CUUR0000SA0R   DEXCHUS   DEXUSEU  \\\n",
       "date                                                                           \n",
       "2011-02-14       -0.14148         0.058255     -0.590029 -0.772034  0.753857   \n",
       "2011-02-15       -0.14148         0.058255     -0.590029 -0.781610  0.765348   \n",
       "2011-02-16       -0.14148         0.058255     -0.590029 -0.781610  0.795799   \n",
       "2011-02-17       -0.14148         0.058255     -0.590029 -0.785630  0.833145   \n",
       "2011-02-18       -0.14148         0.058255     -0.590029 -0.799699  0.868193   \n",
       "\n",
       "series_id   ...  PCUOMINOMIN  SFTPAGRM158SFRBSF     SP500    T10YIE   TEDRATE  \\\n",
       "date        ...                                                                 \n",
       "2011-02-14  ...     1.047525          -0.088386 -1.283833  0.475112 -0.619011   \n",
       "2011-02-15  ...     1.047525          -0.088386 -1.294698  0.475112 -0.619011   \n",
       "2011-02-16  ...     1.047525          -0.088386 -1.273750  0.401980 -0.595232   \n",
       "2011-02-17  ...     1.047525          -0.088386 -1.263390  0.450735 -0.523896   \n",
       "2011-02-18  ...     1.047525          -0.088386 -1.256886  0.621376 -0.547675   \n",
       "\n",
       "series_id   TLAACBW027NBOG  TLBACBW027NBOG  TSIFRGHT    UNRATE  WLEMUINDXD  \n",
       "date                                                                        \n",
       "2011-02-14        0.263166        0.235511  0.016147  1.637112   -0.360459  \n",
       "2011-02-15        0.263166        0.235511  0.016147  1.637112   -0.433198  \n",
       "2011-02-16        0.263166        0.235511  0.016147  1.637112   -0.206956  \n",
       "2011-02-17        0.295239        0.268779  0.016147  1.637112   -0.516571  \n",
       "2011-02-18        0.295239        0.268779  0.016147  1.637112   -0.540650  \n",
       "\n",
       "[5 rows x 68 columns]"
      ]
     },
     "execution_count": 16,
     "metadata": {},
     "output_type": "execute_result"
    }
   ],
   "source": [
    "observations = normed_obs[normed_obs.index >= '02-14-2011']\n",
    "# filter out any dates that are before designated date\n",
    "observations.head()"
   ]
  },
  {
   "cell_type": "markdown",
   "metadata": {
    "slideshow": {
     "slide_type": "slide"
    }
   },
   "source": [
    "# Prophet"
   ]
  },
  {
   "cell_type": "markdown",
   "metadata": {
    "slideshow": {
     "slide_type": "slide"
    }
   },
   "source": [
    "# What is Prophet?\n",
    "Prophet is a procedure for forecasting time series data based on an additive model where non-linear trends are fit with yearly, weekly, and daily seasonality, plus holiday effects. It works best with time series that have strong seasonal effects and several seasons of historical data. Prophet is robust to missing data and shifts in the trend, and typically handles outliers well.\n",
    "\n",
    "It was developed by Facebook's Core Data Science Team in 2018"
   ]
  },
  {
   "cell_type": "markdown",
   "metadata": {
    "slideshow": {
     "slide_type": "slide"
    }
   },
   "source": [
    "# Model\n",
    "lorem ipsum"
   ]
  },
  {
   "cell_type": "code",
   "execution_count": null,
   "metadata": {},
   "outputs": [],
   "source": []
  }
 ],
 "metadata": {
  "celltoolbar": "Slideshow",
  "kernelspec": {
   "display_name": "Python 3",
   "language": "python",
   "name": "python3"
  },
  "language_info": {
   "codemirror_mode": {
    "name": "ipython",
    "version": 3
   },
   "file_extension": ".py",
   "mimetype": "text/x-python",
   "name": "python",
   "nbconvert_exporter": "python",
   "pygments_lexer": "ipython3",
   "version": "3.8.5"
  }
 },
 "nbformat": 4,
 "nbformat_minor": 4
}
