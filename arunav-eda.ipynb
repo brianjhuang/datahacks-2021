{
 "cells": [
  {
   "cell_type": "code",
   "execution_count": 1,
   "metadata": {},
   "outputs": [],
   "source": [
    "import numpy as np\n",
    "import pandas as pd\n",
    "import matplotlib.pyplot as plt"
   ]
  },
  {
   "cell_type": "code",
   "execution_count": 2,
   "metadata": {},
   "outputs": [
    {
     "data": {
      "text/html": [
       "<div>\n",
       "<style scoped>\n",
       "    .dataframe tbody tr th:only-of-type {\n",
       "        vertical-align: middle;\n",
       "    }\n",
       "\n",
       "    .dataframe tbody tr th {\n",
       "        vertical-align: top;\n",
       "    }\n",
       "\n",
       "    .dataframe thead th {\n",
       "        text-align: right;\n",
       "    }\n",
       "</style>\n",
       "<table border=\"1\" class=\"dataframe\">\n",
       "  <thead>\n",
       "    <tr style=\"text-align: right;\">\n",
       "      <th></th>\n",
       "      <th>series_id</th>\n",
       "      <th>name</th>\n",
       "      <th>frequency</th>\n",
       "      <th>units</th>\n",
       "      <th>seasonal_adjustment</th>\n",
       "      <th>Description</th>\n",
       "    </tr>\n",
       "  </thead>\n",
       "  <tbody>\n",
       "    <tr>\n",
       "      <th>0</th>\n",
       "      <td>AAA10Y</td>\n",
       "      <td>Moodys Seasoned Aaa Corporate Bond Yield Relat...</td>\n",
       "      <td>Daily</td>\n",
       "      <td>Percent</td>\n",
       "      <td>Not Seasonally Adjusted</td>\n",
       "      <td>Series is calculated as the spread between Moo...</td>\n",
       "    </tr>\n",
       "    <tr>\n",
       "      <th>1</th>\n",
       "      <td>ASEANTOT</td>\n",
       "      <td>Import Price Index: ASEAN - All commodities</td>\n",
       "      <td>Monthly</td>\n",
       "      <td>Index Dec 2003=100</td>\n",
       "      <td>Not Seasonally Adjusted</td>\n",
       "      <td>For more information, please see the Import/Ex...</td>\n",
       "    </tr>\n",
       "    <tr>\n",
       "      <th>2</th>\n",
       "      <td>BAA10Y</td>\n",
       "      <td>Moodys Seasoned Baa Corporate Bond Yield Relat...</td>\n",
       "      <td>Daily</td>\n",
       "      <td>Percent</td>\n",
       "      <td>Not Seasonally Adjusted</td>\n",
       "      <td>Series is calculated as the spread between Moo...</td>\n",
       "    </tr>\n",
       "    <tr>\n",
       "      <th>3</th>\n",
       "      <td>BUSAPPWNSAUS</td>\n",
       "      <td>Business Applications for the United States</td>\n",
       "      <td>Weekly, Ending Saturday</td>\n",
       "      <td>Number</td>\n",
       "      <td>Not Seasonally Adjusted</td>\n",
       "      <td>Business Applications (BA): The core business ...</td>\n",
       "    </tr>\n",
       "    <tr>\n",
       "      <th>4</th>\n",
       "      <td>BUSAPPWNSAUSYY</td>\n",
       "      <td>Business Applications for the United States</td>\n",
       "      <td>Weekly, Ending Saturday</td>\n",
       "      <td>Percent Change from Year Ago</td>\n",
       "      <td>Not Seasonally Adjusted</td>\n",
       "      <td>Business Applications (BA): The core business ...</td>\n",
       "    </tr>\n",
       "  </tbody>\n",
       "</table>\n",
       "</div>"
      ],
      "text/plain": [
       "        series_id                                               name  \\\n",
       "0          AAA10Y  Moodys Seasoned Aaa Corporate Bond Yield Relat...   \n",
       "1        ASEANTOT        Import Price Index: ASEAN - All commodities   \n",
       "2          BAA10Y  Moodys Seasoned Baa Corporate Bond Yield Relat...   \n",
       "3    BUSAPPWNSAUS        Business Applications for the United States   \n",
       "4  BUSAPPWNSAUSYY        Business Applications for the United States   \n",
       "\n",
       "                 frequency                         units  \\\n",
       "0                    Daily                       Percent   \n",
       "1                  Monthly            Index Dec 2003=100   \n",
       "2                    Daily                       Percent   \n",
       "3  Weekly, Ending Saturday                        Number   \n",
       "4  Weekly, Ending Saturday  Percent Change from Year Ago   \n",
       "\n",
       "       seasonal_adjustment                                        Description  \n",
       "0  Not Seasonally Adjusted  Series is calculated as the spread between Moo...  \n",
       "1  Not Seasonally Adjusted  For more information, please see the Import/Ex...  \n",
       "2  Not Seasonally Adjusted  Series is calculated as the spread between Moo...  \n",
       "3  Not Seasonally Adjusted  Business Applications (BA): The core business ...  \n",
       "4  Not Seasonally Adjusted  Business Applications (BA): The core business ...  "
      ]
     },
     "execution_count": 2,
     "metadata": {},
     "output_type": "execute_result"
    }
   ],
   "source": [
    "observations = pd.read_csv(\"data/observations_train.csv\")\n",
    "series = pd.read_csv(\"data/series.csv\")\n",
    "series.head()"
   ]
  },
  {
   "cell_type": "code",
   "execution_count": 3,
   "metadata": {},
   "outputs": [
    {
     "data": {
      "text/html": [
       "<div>\n",
       "<style scoped>\n",
       "    .dataframe tbody tr th:only-of-type {\n",
       "        vertical-align: middle;\n",
       "    }\n",
       "\n",
       "    .dataframe tbody tr th {\n",
       "        vertical-align: top;\n",
       "    }\n",
       "\n",
       "    .dataframe thead th {\n",
       "        text-align: right;\n",
       "    }\n",
       "</style>\n",
       "<table border=\"1\" class=\"dataframe\">\n",
       "  <thead>\n",
       "    <tr style=\"text-align: right;\">\n",
       "      <th></th>\n",
       "      <th>series_id</th>\n",
       "      <th>name</th>\n",
       "      <th>frequency</th>\n",
       "      <th>units</th>\n",
       "      <th>Description</th>\n",
       "    </tr>\n",
       "    <tr>\n",
       "      <th>seasonal_adjustment</th>\n",
       "      <th></th>\n",
       "      <th></th>\n",
       "      <th></th>\n",
       "      <th></th>\n",
       "      <th></th>\n",
       "    </tr>\n",
       "  </thead>\n",
       "  <tbody>\n",
       "    <tr>\n",
       "      <th>Not Seasonally Adjusted</th>\n",
       "      <td>52</td>\n",
       "      <td>52</td>\n",
       "      <td>52</td>\n",
       "      <td>52</td>\n",
       "      <td>36</td>\n",
       "    </tr>\n",
       "    <tr>\n",
       "      <th>Seasonally Adjusted</th>\n",
       "      <td>19</td>\n",
       "      <td>19</td>\n",
       "      <td>19</td>\n",
       "      <td>19</td>\n",
       "      <td>4</td>\n",
       "    </tr>\n",
       "  </tbody>\n",
       "</table>\n",
       "</div>"
      ],
      "text/plain": [
       "                         series_id  name  frequency  units  Description\n",
       "seasonal_adjustment                                                    \n",
       "Not Seasonally Adjusted         52    52         52     52           36\n",
       "Seasonally Adjusted             19    19         19     19            4"
      ]
     },
     "execution_count": 3,
     "metadata": {},
     "output_type": "execute_result"
    }
   ],
   "source": [
    "series.groupby(\"seasonal_adjustment\").count()"
   ]
  },
  {
   "cell_type": "code",
   "execution_count": 4,
   "metadata": {},
   "outputs": [
    {
     "data": {
      "text/html": [
       "<div>\n",
       "<style scoped>\n",
       "    .dataframe tbody tr th:only-of-type {\n",
       "        vertical-align: middle;\n",
       "    }\n",
       "\n",
       "    .dataframe tbody tr th {\n",
       "        vertical-align: top;\n",
       "    }\n",
       "\n",
       "    .dataframe thead th {\n",
       "        text-align: right;\n",
       "    }\n",
       "</style>\n",
       "<table border=\"1\" class=\"dataframe\">\n",
       "  <thead>\n",
       "    <tr style=\"text-align: right;\">\n",
       "      <th></th>\n",
       "      <th>series_id</th>\n",
       "      <th>name</th>\n",
       "      <th>frequency</th>\n",
       "      <th>units</th>\n",
       "      <th>seasonal_adjustment</th>\n",
       "      <th>Description</th>\n",
       "    </tr>\n",
       "  </thead>\n",
       "  <tbody>\n",
       "    <tr>\n",
       "      <th>24</th>\n",
       "      <td>GVIPT50002S</td>\n",
       "      <td>Gross Value Weighted Industrial Production: Fi...</td>\n",
       "      <td>Monthly</td>\n",
       "      <td>Billions of 2012 US Dollars</td>\n",
       "      <td>Seasonally Adjusted</td>\n",
       "      <td>NaN</td>\n",
       "    </tr>\n",
       "    <tr>\n",
       "      <th>25</th>\n",
       "      <td>GVIPT50030S</td>\n",
       "      <td>Gross Value Weighted Industrial Production: Fi...</td>\n",
       "      <td>Monthly</td>\n",
       "      <td>Billions of 2012 US Dollars</td>\n",
       "      <td>Seasonally Adjusted</td>\n",
       "      <td>NaN</td>\n",
       "    </tr>\n",
       "    <tr>\n",
       "      <th>26</th>\n",
       "      <td>GVIPT51000S</td>\n",
       "      <td>Gross Value Weighted Industrial Production: Co...</td>\n",
       "      <td>Monthly</td>\n",
       "      <td>Billions of 2012 US Dollars</td>\n",
       "      <td>Seasonally Adjusted</td>\n",
       "      <td>NaN</td>\n",
       "    </tr>\n",
       "    <tr>\n",
       "      <th>27</th>\n",
       "      <td>GVIPT51100S</td>\n",
       "      <td>Gross Value Weighted Industrial Production: Du...</td>\n",
       "      <td>Monthly</td>\n",
       "      <td>Billions of 2012 US Dollars</td>\n",
       "      <td>Seasonally Adjusted</td>\n",
       "      <td>NaN</td>\n",
       "    </tr>\n",
       "    <tr>\n",
       "      <th>28</th>\n",
       "      <td>GVIPT51110S</td>\n",
       "      <td>Gross Value Weighted Industrial Production: Au...</td>\n",
       "      <td>Monthly</td>\n",
       "      <td>Billions of 2012 US Dollars</td>\n",
       "      <td>Seasonally Adjusted</td>\n",
       "      <td>NaN</td>\n",
       "    </tr>\n",
       "    <tr>\n",
       "      <th>29</th>\n",
       "      <td>GVIPT51120S</td>\n",
       "      <td>Gross Value Weighted Industrial Production: Ot...</td>\n",
       "      <td>Monthly</td>\n",
       "      <td>Billions of 2012 US Dollars</td>\n",
       "      <td>Seasonally Adjusted</td>\n",
       "      <td>NaN</td>\n",
       "    </tr>\n",
       "    <tr>\n",
       "      <th>30</th>\n",
       "      <td>GVIPT51200S</td>\n",
       "      <td>Gross Value Weighted Industrial Production: No...</td>\n",
       "      <td>Monthly</td>\n",
       "      <td>Billions of 2012 US Dollars</td>\n",
       "      <td>Seasonally Adjusted</td>\n",
       "      <td>NaN</td>\n",
       "    </tr>\n",
       "    <tr>\n",
       "      <th>31</th>\n",
       "      <td>GVIPT52000S</td>\n",
       "      <td>Gross Value Weighted Industrial Production: Eq...</td>\n",
       "      <td>Monthly</td>\n",
       "      <td>Billions of 2012 US Dollars</td>\n",
       "      <td>Seasonally Adjusted</td>\n",
       "      <td>NaN</td>\n",
       "    </tr>\n",
       "    <tr>\n",
       "      <th>32</th>\n",
       "      <td>GVIPT52100S</td>\n",
       "      <td>Gross Value Weighted Industrial Production: Bu...</td>\n",
       "      <td>Monthly</td>\n",
       "      <td>Billions of 2012 US Dollars</td>\n",
       "      <td>Seasonally Adjusted</td>\n",
       "      <td>NaN</td>\n",
       "    </tr>\n",
       "    <tr>\n",
       "      <th>33</th>\n",
       "      <td>GVIPT521A3S</td>\n",
       "      <td>Gross Value Weighted Industrial Production: Bu...</td>\n",
       "      <td>Monthly</td>\n",
       "      <td>Billions of 2012 US Dollars</td>\n",
       "      <td>Seasonally Adjusted</td>\n",
       "      <td>NaN</td>\n",
       "    </tr>\n",
       "    <tr>\n",
       "      <th>34</th>\n",
       "      <td>GVIPT52300S</td>\n",
       "      <td>Gross Value Weighted Industrial Production: De...</td>\n",
       "      <td>Monthly</td>\n",
       "      <td>Billions of 2012 US Dollars</td>\n",
       "      <td>Seasonally Adjusted</td>\n",
       "      <td>NaN</td>\n",
       "    </tr>\n",
       "    <tr>\n",
       "      <th>35</th>\n",
       "      <td>GVIPT54000S</td>\n",
       "      <td>Gross Value Weighted Industrial Production: No...</td>\n",
       "      <td>Monthly</td>\n",
       "      <td>Billions of 2012 US Dollars</td>\n",
       "      <td>Seasonally Adjusted</td>\n",
       "      <td>NaN</td>\n",
       "    </tr>\n",
       "    <tr>\n",
       "      <th>36</th>\n",
       "      <td>GVIPT54100S</td>\n",
       "      <td>Gross Value Weighted Industrial Production: Co...</td>\n",
       "      <td>Monthly</td>\n",
       "      <td>Billions of 2012 US Dollars</td>\n",
       "      <td>Seasonally Adjusted</td>\n",
       "      <td>NaN</td>\n",
       "    </tr>\n",
       "    <tr>\n",
       "      <th>37</th>\n",
       "      <td>GVIPT54200S</td>\n",
       "      <td>Gross Value Weighted Industrial Production: Bu...</td>\n",
       "      <td>Monthly</td>\n",
       "      <td>Billions of 2012 US Dollars</td>\n",
       "      <td>Seasonally Adjusted</td>\n",
       "      <td>NaN</td>\n",
       "    </tr>\n",
       "    <tr>\n",
       "      <th>38</th>\n",
       "      <td>GVIPT54220S</td>\n",
       "      <td>Gross Value Weighted Industrial Production: Co...</td>\n",
       "      <td>Monthly</td>\n",
       "      <td>Billions of 2012 US Dollars</td>\n",
       "      <td>Seasonally Adjusted</td>\n",
       "      <td>NaN</td>\n",
       "    </tr>\n",
       "    <tr>\n",
       "      <th>42</th>\n",
       "      <td>MEDCPIM158SFRBCLE</td>\n",
       "      <td>Median Consumer Price Index</td>\n",
       "      <td>Monthly</td>\n",
       "      <td>Percent Change at Annual Rate</td>\n",
       "      <td>Seasonally Adjusted</td>\n",
       "      <td>Median Consumer Price Index (CPI) is a measure...</td>\n",
       "    </tr>\n",
       "    <tr>\n",
       "      <th>60</th>\n",
       "      <td>SFTPAGRM158SFRBSF</td>\n",
       "      <td>San Francisco Tech Pulse</td>\n",
       "      <td>Monthly</td>\n",
       "      <td>Percent Change at Annual Rate</td>\n",
       "      <td>Seasonally Adjusted</td>\n",
       "      <td>The Tech Pulse release has been discontinued a...</td>\n",
       "    </tr>\n",
       "    <tr>\n",
       "      <th>68</th>\n",
       "      <td>TSIFRGHT</td>\n",
       "      <td>Freight Transportation Services Index</td>\n",
       "      <td>Monthly</td>\n",
       "      <td>Chain-type Index 2000=100</td>\n",
       "      <td>Seasonally Adjusted</td>\n",
       "      <td>The freight transportation services index cons...</td>\n",
       "    </tr>\n",
       "    <tr>\n",
       "      <th>69</th>\n",
       "      <td>UNRATE</td>\n",
       "      <td>Unemployment Rate</td>\n",
       "      <td>Monthly</td>\n",
       "      <td>Percent</td>\n",
       "      <td>Seasonally Adjusted</td>\n",
       "      <td>The unemployment rate represents the number of...</td>\n",
       "    </tr>\n",
       "  </tbody>\n",
       "</table>\n",
       "</div>"
      ],
      "text/plain": [
       "            series_id                                               name  \\\n",
       "24        GVIPT50002S  Gross Value Weighted Industrial Production: Fi...   \n",
       "25        GVIPT50030S  Gross Value Weighted Industrial Production: Fi...   \n",
       "26        GVIPT51000S  Gross Value Weighted Industrial Production: Co...   \n",
       "27        GVIPT51100S  Gross Value Weighted Industrial Production: Du...   \n",
       "28        GVIPT51110S  Gross Value Weighted Industrial Production: Au...   \n",
       "29        GVIPT51120S  Gross Value Weighted Industrial Production: Ot...   \n",
       "30        GVIPT51200S  Gross Value Weighted Industrial Production: No...   \n",
       "31        GVIPT52000S  Gross Value Weighted Industrial Production: Eq...   \n",
       "32        GVIPT52100S  Gross Value Weighted Industrial Production: Bu...   \n",
       "33        GVIPT521A3S  Gross Value Weighted Industrial Production: Bu...   \n",
       "34        GVIPT52300S  Gross Value Weighted Industrial Production: De...   \n",
       "35        GVIPT54000S  Gross Value Weighted Industrial Production: No...   \n",
       "36        GVIPT54100S  Gross Value Weighted Industrial Production: Co...   \n",
       "37        GVIPT54200S  Gross Value Weighted Industrial Production: Bu...   \n",
       "38        GVIPT54220S  Gross Value Weighted Industrial Production: Co...   \n",
       "42  MEDCPIM158SFRBCLE                        Median Consumer Price Index   \n",
       "60  SFTPAGRM158SFRBSF                           San Francisco Tech Pulse   \n",
       "68           TSIFRGHT              Freight Transportation Services Index   \n",
       "69             UNRATE                                  Unemployment Rate   \n",
       "\n",
       "   frequency                          units  seasonal_adjustment  \\\n",
       "24   Monthly    Billions of 2012 US Dollars  Seasonally Adjusted   \n",
       "25   Monthly    Billions of 2012 US Dollars  Seasonally Adjusted   \n",
       "26   Monthly    Billions of 2012 US Dollars  Seasonally Adjusted   \n",
       "27   Monthly    Billions of 2012 US Dollars  Seasonally Adjusted   \n",
       "28   Monthly    Billions of 2012 US Dollars  Seasonally Adjusted   \n",
       "29   Monthly    Billions of 2012 US Dollars  Seasonally Adjusted   \n",
       "30   Monthly    Billions of 2012 US Dollars  Seasonally Adjusted   \n",
       "31   Monthly    Billions of 2012 US Dollars  Seasonally Adjusted   \n",
       "32   Monthly    Billions of 2012 US Dollars  Seasonally Adjusted   \n",
       "33   Monthly    Billions of 2012 US Dollars  Seasonally Adjusted   \n",
       "34   Monthly    Billions of 2012 US Dollars  Seasonally Adjusted   \n",
       "35   Monthly    Billions of 2012 US Dollars  Seasonally Adjusted   \n",
       "36   Monthly    Billions of 2012 US Dollars  Seasonally Adjusted   \n",
       "37   Monthly    Billions of 2012 US Dollars  Seasonally Adjusted   \n",
       "38   Monthly    Billions of 2012 US Dollars  Seasonally Adjusted   \n",
       "42   Monthly  Percent Change at Annual Rate  Seasonally Adjusted   \n",
       "60   Monthly  Percent Change at Annual Rate  Seasonally Adjusted   \n",
       "68   Monthly      Chain-type Index 2000=100  Seasonally Adjusted   \n",
       "69   Monthly                        Percent  Seasonally Adjusted   \n",
       "\n",
       "                                          Description  \n",
       "24                                                NaN  \n",
       "25                                                NaN  \n",
       "26                                                NaN  \n",
       "27                                                NaN  \n",
       "28                                                NaN  \n",
       "29                                                NaN  \n",
       "30                                                NaN  \n",
       "31                                                NaN  \n",
       "32                                                NaN  \n",
       "33                                                NaN  \n",
       "34                                                NaN  \n",
       "35                                                NaN  \n",
       "36                                                NaN  \n",
       "37                                                NaN  \n",
       "38                                                NaN  \n",
       "42  Median Consumer Price Index (CPI) is a measure...  \n",
       "60  The Tech Pulse release has been discontinued a...  \n",
       "68  The freight transportation services index cons...  \n",
       "69  The unemployment rate represents the number of...  "
      ]
     },
     "execution_count": 4,
     "metadata": {},
     "output_type": "execute_result"
    }
   ],
   "source": [
    "series.query(\"\"\"seasonal_adjustment == 'Seasonally Adjusted'  \"\"\")"
   ]
  },
  {
   "cell_type": "code",
   "execution_count": 5,
   "metadata": {},
   "outputs": [
    {
     "data": {
      "text/html": [
       "<div>\n",
       "<style scoped>\n",
       "    .dataframe tbody tr th:only-of-type {\n",
       "        vertical-align: middle;\n",
       "    }\n",
       "\n",
       "    .dataframe tbody tr th {\n",
       "        vertical-align: top;\n",
       "    }\n",
       "\n",
       "    .dataframe thead th {\n",
       "        text-align: right;\n",
       "    }\n",
       "</style>\n",
       "<table border=\"1\" class=\"dataframe\">\n",
       "  <thead>\n",
       "    <tr style=\"text-align: right;\">\n",
       "      <th></th>\n",
       "      <th>series_id</th>\n",
       "      <th>date</th>\n",
       "      <th>value</th>\n",
       "    </tr>\n",
       "  </thead>\n",
       "  <tbody>\n",
       "    <tr>\n",
       "      <th>0</th>\n",
       "      <td>AAA10Y</td>\n",
       "      <td>2000-01-03 00:00:00.0000000</td>\n",
       "      <td>1.17</td>\n",
       "    </tr>\n",
       "    <tr>\n",
       "      <th>1</th>\n",
       "      <td>AAA10Y</td>\n",
       "      <td>2000-01-04 00:00:00.0000000</td>\n",
       "      <td>1.20</td>\n",
       "    </tr>\n",
       "    <tr>\n",
       "      <th>2</th>\n",
       "      <td>AAA10Y</td>\n",
       "      <td>2000-01-05 00:00:00.0000000</td>\n",
       "      <td>1.16</td>\n",
       "    </tr>\n",
       "    <tr>\n",
       "      <th>3</th>\n",
       "      <td>AAA10Y</td>\n",
       "      <td>2000-01-06 00:00:00.0000000</td>\n",
       "      <td>1.15</td>\n",
       "    </tr>\n",
       "    <tr>\n",
       "      <th>4</th>\n",
       "      <td>AAA10Y</td>\n",
       "      <td>2000-01-07 00:00:00.0000000</td>\n",
       "      <td>1.17</td>\n",
       "    </tr>\n",
       "  </tbody>\n",
       "</table>\n",
       "</div>"
      ],
      "text/plain": [
       "  series_id                         date  value\n",
       "0    AAA10Y  2000-01-03 00:00:00.0000000   1.17\n",
       "1    AAA10Y  2000-01-04 00:00:00.0000000   1.20\n",
       "2    AAA10Y  2000-01-05 00:00:00.0000000   1.16\n",
       "3    AAA10Y  2000-01-06 00:00:00.0000000   1.15\n",
       "4    AAA10Y  2000-01-07 00:00:00.0000000   1.17"
      ]
     },
     "execution_count": 5,
     "metadata": {},
     "output_type": "execute_result"
    }
   ],
   "source": [
    "observations.head()"
   ]
  },
  {
   "cell_type": "code",
   "execution_count": 6,
   "metadata": {},
   "outputs": [],
   "source": [
    "observations['date'] = pd.to_datetime(observations['date'])\n",
    "obs = observations.pivot_table(values=\"value\", index=\"date\", columns=\"series_id\")"
   ]
  },
  {
   "cell_type": "code",
   "execution_count": 7,
   "metadata": {},
   "outputs": [
    {
     "data": {
      "text/plain": [
       "date\n",
       "2011-02-14    1332.32\n",
       "2011-02-15    1328.01\n",
       "2011-02-16    1336.32\n",
       "2011-02-17    1340.43\n",
       "2011-02-18    1343.01\n",
       "Name: SP500, dtype: float64"
      ]
     },
     "execution_count": 7,
     "metadata": {},
     "output_type": "execute_result"
    }
   ],
   "source": [
    "SP500 = obs['SP500']\n",
    "SP500.dropna(inplace=True)\n",
    "SP500.head()"
   ]
  },
  {
   "cell_type": "code",
   "execution_count": 8,
   "metadata": {},
   "outputs": [
    {
     "data": {
      "text/plain": [
       "<matplotlib.legend.Legend at 0x7ff4b4782190>"
      ]
     },
     "execution_count": 8,
     "metadata": {},
     "output_type": "execute_result"
    },
    {
     "data": {
      "image/png": "[encoded data removed]",
      "text/plain": [
       "<Figure size 1152x648 with 1 Axes>"
      ]
     },
     "metadata": {
      "needs_background": "light"
     },
     "output_type": "display_data"
    }
   ],
   "source": [
    "fig, ax = plt.subplots(figsize=(16, 9))\n",
    "obs.drop(columns=[\"BUSAPPWNSAUS\"]).plot(ax=ax)\n",
    "ax.legend(\"off\")\n",
    "# ax.set_ylim([0, 10_000])"
   ]
  },
  {
   "cell_type": "code",
   "execution_count": 9,
   "metadata": {},
   "outputs": [
    {
     "data": {
      "text/plain": [
       "series_id\n",
       "AAA10Y                3.000\n",
       "ASEANTOT            106.200\n",
       "BAA10Y                6.160\n",
       "BUSAPPWNSAUS      85450.000\n",
       "BUSAPPWNSAUSYY      687.950\n",
       "                    ...    \n",
       "TLAACBW027NBOG    16841.372\n",
       "TLBACBW027NBOG    14989.244\n",
       "TSIFRGHT            133.600\n",
       "UNRATE               10.000\n",
       "WLEMUINDXD         1811.330\n",
       "Length: 68, dtype: float64"
      ]
     },
     "execution_count": 9,
     "metadata": {},
     "output_type": "execute_result"
    }
   ],
   "source": [
    "obs.max()"
   ]
  },
  {
   "cell_type": "code",
   "execution_count": 10,
   "metadata": {},
   "outputs": [
    {
     "data": {
      "text/plain": [
       "<AxesSubplot:xlabel='date'>"
      ]
     },
     "execution_count": 10,
     "metadata": {},
     "output_type": "execute_result"
    },
    {
     "data": {
      "image/png": "[encoded data removed]",
      "text/plain": [
       "<Figure size 432x288 with 1 Axes>"
      ]
     },
     "metadata": {
      "needs_background": "light"
     },
     "output_type": "display_data"
    }
   ],
   "source": [
    "series.query(\"\"\"series_id == 'BUSAPPWNSAUS'\"\"\")\n",
    "obs['BUSAPPWNSAUS'].dropna().plot()"
   ]
  },
  {
   "cell_type": "markdown",
   "metadata": {},
   "source": [
    "Normalize Values"
   ]
  },
  {
   "cell_type": "code",
   "execution_count": 11,
   "metadata": {},
   "outputs": [],
   "source": [
    "normalize = lambda col: (col-col.mean())/col.std()\n",
    "\n",
    "normed_obs = obs.apply(normalize, axis=0)"
   ]
  },
  {
   "cell_type": "code",
   "execution_count": 12,
   "metadata": {},
   "outputs": [
    {
     "data": {
      "text/plain": [
       "<matplotlib.legend.Legend at 0x7ff49aeab100>"
      ]
     },
     "execution_count": 12,
     "metadata": {},
     "output_type": "execute_result"
    },
    {
     "data": {
      "image/png": "[encoded data removed]",
      "text/plain": [
       "<Figure size 1152x648 with 1 Axes>"
      ]
     },
     "metadata": {
      "needs_background": "light"
     },
     "output_type": "display_data"
    }
   ],
   "source": [
    "fig, ax = plt.subplots(figsize=(16, 9))\n",
    "normed_obs.plot(ax=ax)\n",
    "ax.legend(\"off\")"
   ]
  },
  {
   "cell_type": "code",
   "execution_count": 13,
   "metadata": {},
   "outputs": [
    {
     "data": {
      "text/plain": [
       "series_id\n",
       "AAA10Y           -0.702341\n",
       "ASEANTOT         -0.845046\n",
       "BAA10Y           -0.640168\n",
       "BUSAPPWNSAUS           NaN\n",
       "BUSAPPWNSAUSYY         NaN\n",
       "                    ...   \n",
       "TLAACBW027NBOG    0.972114\n",
       "TLBACBW027NBOG    0.971807\n",
       "TSIFRGHT          0.968472\n",
       "UNRATE           -0.964499\n",
       "WLEMUINDXD       -0.204052\n",
       "Name: SP500, Length: 68, dtype: float64"
      ]
     },
     "execution_count": 13,
     "metadata": {},
     "output_type": "execute_result"
    }
   ],
   "source": [
    "normed_obs.corr()['SP500']"
   ]
  },
  {
   "cell_type": "code",
   "execution_count": 14,
   "metadata": {},
   "outputs": [
    {
     "data": {
      "text/html": [
       "<div>\n",
       "<style scoped>\n",
       "    .dataframe tbody tr th:only-of-type {\n",
       "        vertical-align: middle;\n",
       "    }\n",
       "\n",
       "    .dataframe tbody tr th {\n",
       "        vertical-align: top;\n",
       "    }\n",
       "\n",
       "    .dataframe thead th {\n",
       "        text-align: right;\n",
       "    }\n",
       "</style>\n",
       "<table border=\"1\" class=\"dataframe\">\n",
       "  <thead>\n",
       "    <tr style=\"text-align: right;\">\n",
       "      <th></th>\n",
       "      <th>series_id</th>\n",
       "      <th>name</th>\n",
       "      <th>frequency</th>\n",
       "      <th>units</th>\n",
       "      <th>seasonal_adjustment</th>\n",
       "      <th>Description</th>\n",
       "    </tr>\n",
       "  </thead>\n",
       "  <tbody>\n",
       "    <tr>\n",
       "      <th>69</th>\n",
       "      <td>UNRATE</td>\n",
       "      <td>Unemployment Rate</td>\n",
       "      <td>Monthly</td>\n",
       "      <td>Percent</td>\n",
       "      <td>Seasonally Adjusted</td>\n",
       "      <td>The unemployment rate represents the number of...</td>\n",
       "    </tr>\n",
       "  </tbody>\n",
       "</table>\n",
       "</div>"
      ],
      "text/plain": [
       "   series_id               name frequency    units  seasonal_adjustment  \\\n",
       "69    UNRATE  Unemployment Rate   Monthly  Percent  Seasonally Adjusted   \n",
       "\n",
       "                                          Description  \n",
       "69  The unemployment rate represents the number of...  "
      ]
     },
     "execution_count": 14,
     "metadata": {},
     "output_type": "execute_result"
    }
   ],
   "source": [
    "series.query(\"\"\"series_id == 'UNRATE'\"\"\")"
   ]
  },
  {
   "cell_type": "code",
   "execution_count": 15,
   "metadata": {},
   "outputs": [
    {
     "name": "stderr",
     "output_type": "stream",
     "text": [
      "Importing plotly failed. Interactive plots will not work.\n"
     ]
    }
   ],
   "source": [
    "from prophet import Prophet"
   ]
  },
  {
   "cell_type": "code",
   "execution_count": 16,
   "metadata": {},
   "outputs": [],
   "source": [
    "m = Prophet()\n",
    "\n",
    "features = pd.DataFrame({'ds': normed_obs.index, 'y': normed_obs['SP500'], 'unem': normed_obs['UNRATE']})\n",
    "features = features.loc[features.index >= '2011-02-14']"
   ]
  },
  {
   "cell_type": "code",
   "execution_count": 17,
   "metadata": {},
   "outputs": [
    {
     "data": {
      "text/html": [
       "<div>\n",
       "<style scoped>\n",
       "    .dataframe tbody tr th:only-of-type {\n",
       "        vertical-align: middle;\n",
       "    }\n",
       "\n",
       "    .dataframe tbody tr th {\n",
       "        vertical-align: top;\n",
       "    }\n",
       "\n",
       "    .dataframe thead th {\n",
       "        text-align: right;\n",
       "    }\n",
       "</style>\n",
       "<table border=\"1\" class=\"dataframe\">\n",
       "  <thead>\n",
       "    <tr style=\"text-align: right;\">\n",
       "      <th></th>\n",
       "      <th>ds</th>\n",
       "      <th>y</th>\n",
       "      <th>unem</th>\n",
       "    </tr>\n",
       "    <tr>\n",
       "      <th>date</th>\n",
       "      <th></th>\n",
       "      <th></th>\n",
       "      <th></th>\n",
       "    </tr>\n",
       "  </thead>\n",
       "  <tbody>\n",
       "    <tr>\n",
       "      <th>2011-03-01</th>\n",
       "      <td>2011-03-01</td>\n",
       "      <td>-1.349348</td>\n",
       "      <td>1.637112</td>\n",
       "    </tr>\n",
       "    <tr>\n",
       "      <th>2011-03-02</th>\n",
       "      <td>2011-03-02</td>\n",
       "      <td>-1.344029</td>\n",
       "      <td>1.637112</td>\n",
       "    </tr>\n",
       "    <tr>\n",
       "      <th>2011-03-03</th>\n",
       "      <td>2011-03-03</td>\n",
       "      <td>-1.287236</td>\n",
       "      <td>1.637112</td>\n",
       "    </tr>\n",
       "    <tr>\n",
       "      <th>2011-03-04</th>\n",
       "      <td>2011-03-04</td>\n",
       "      <td>-1.311990</td>\n",
       "      <td>1.637112</td>\n",
       "    </tr>\n",
       "    <tr>\n",
       "      <th>2011-03-05</th>\n",
       "      <td>2011-03-05</td>\n",
       "      <td>NaN</td>\n",
       "      <td>1.637112</td>\n",
       "    </tr>\n",
       "    <tr>\n",
       "      <th>...</th>\n",
       "      <td>...</td>\n",
       "      <td>...</td>\n",
       "      <td>...</td>\n",
       "    </tr>\n",
       "    <tr>\n",
       "      <th>2017-12-27</th>\n",
       "      <td>2017-12-27</td>\n",
       "      <td>2.119963</td>\n",
       "      <td>-1.151405</td>\n",
       "    </tr>\n",
       "    <tr>\n",
       "      <th>2017-12-28</th>\n",
       "      <td>2017-12-28</td>\n",
       "      <td>2.132365</td>\n",
       "      <td>-1.151405</td>\n",
       "    </tr>\n",
       "    <tr>\n",
       "      <th>2017-12-29</th>\n",
       "      <td>2017-12-29</td>\n",
       "      <td>2.097250</td>\n",
       "      <td>-1.151405</td>\n",
       "    </tr>\n",
       "    <tr>\n",
       "      <th>2017-12-30</th>\n",
       "      <td>2017-12-30</td>\n",
       "      <td>NaN</td>\n",
       "      <td>-1.151405</td>\n",
       "    </tr>\n",
       "    <tr>\n",
       "      <th>2017-12-31</th>\n",
       "      <td>2017-12-31</td>\n",
       "      <td>NaN</td>\n",
       "      <td>-1.151405</td>\n",
       "    </tr>\n",
       "  </tbody>\n",
       "</table>\n",
       "<p>2498 rows × 3 columns</p>\n",
       "</div>"
      ],
      "text/plain": [
       "                   ds         y      unem\n",
       "date                                     \n",
       "2011-03-01 2011-03-01 -1.349348  1.637112\n",
       "2011-03-02 2011-03-02 -1.344029  1.637112\n",
       "2011-03-03 2011-03-03 -1.287236  1.637112\n",
       "2011-03-04 2011-03-04 -1.311990  1.637112\n",
       "2011-03-05 2011-03-05       NaN  1.637112\n",
       "...               ...       ...       ...\n",
       "2017-12-27 2017-12-27  2.119963 -1.151405\n",
       "2017-12-28 2017-12-28  2.132365 -1.151405\n",
       "2017-12-29 2017-12-29  2.097250 -1.151405\n",
       "2017-12-30 2017-12-30       NaN -1.151405\n",
       "2017-12-31 2017-12-31       NaN -1.151405\n",
       "\n",
       "[2498 rows x 3 columns]"
      ]
     },
     "execution_count": 17,
     "metadata": {},
     "output_type": "execute_result"
    }
   ],
   "source": [
    "features['unem'] = features['unem'].fillna(method='ffill')\n",
    "features = features.loc[features.index >= '2011-03-01']\n",
    "features"
   ]
  },
  {
   "cell_type": "code",
   "execution_count": 18,
   "metadata": {},
   "outputs": [
    {
     "data": {
      "text/html": [
       "<div>\n",
       "<style scoped>\n",
       "    .dataframe tbody tr th:only-of-type {\n",
       "        vertical-align: middle;\n",
       "    }\n",
       "\n",
       "    .dataframe tbody tr th {\n",
       "        vertical-align: top;\n",
       "    }\n",
       "\n",
       "    .dataframe thead th {\n",
       "        text-align: right;\n",
       "    }\n",
       "</style>\n",
       "<table border=\"1\" class=\"dataframe\">\n",
       "  <thead>\n",
       "    <tr style=\"text-align: right;\">\n",
       "      <th></th>\n",
       "      <th>ds</th>\n",
       "      <th>y</th>\n",
       "      <th>unem</th>\n",
       "    </tr>\n",
       "    <tr>\n",
       "      <th>date</th>\n",
       "      <th></th>\n",
       "      <th></th>\n",
       "      <th></th>\n",
       "    </tr>\n",
       "  </thead>\n",
       "  <tbody>\n",
       "    <tr>\n",
       "      <th>2011-03-01</th>\n",
       "      <td>2011-03-01</td>\n",
       "      <td>-1.349348</td>\n",
       "      <td>1.637112</td>\n",
       "    </tr>\n",
       "    <tr>\n",
       "      <th>2011-03-02</th>\n",
       "      <td>2011-03-02</td>\n",
       "      <td>-1.344029</td>\n",
       "      <td>1.637112</td>\n",
       "    </tr>\n",
       "    <tr>\n",
       "      <th>2011-03-03</th>\n",
       "      <td>2011-03-03</td>\n",
       "      <td>-1.287236</td>\n",
       "      <td>1.637112</td>\n",
       "    </tr>\n",
       "    <tr>\n",
       "      <th>2011-03-04</th>\n",
       "      <td>2011-03-04</td>\n",
       "      <td>-1.311990</td>\n",
       "      <td>1.637112</td>\n",
       "    </tr>\n",
       "    <tr>\n",
       "      <th>2011-03-05</th>\n",
       "      <td>2011-03-05</td>\n",
       "      <td>NaN</td>\n",
       "      <td>1.637112</td>\n",
       "    </tr>\n",
       "    <tr>\n",
       "      <th>...</th>\n",
       "      <td>...</td>\n",
       "      <td>...</td>\n",
       "      <td>...</td>\n",
       "    </tr>\n",
       "    <tr>\n",
       "      <th>2017-06-10</th>\n",
       "      <td>2017-06-10</td>\n",
       "      <td>NaN</td>\n",
       "      <td>-1.037588</td>\n",
       "    </tr>\n",
       "    <tr>\n",
       "      <th>2017-06-11</th>\n",
       "      <td>2017-06-11</td>\n",
       "      <td>NaN</td>\n",
       "      <td>-1.037588</td>\n",
       "    </tr>\n",
       "    <tr>\n",
       "      <th>2017-06-12</th>\n",
       "      <td>2017-06-12</td>\n",
       "      <td>1.481628</td>\n",
       "      <td>-1.037588</td>\n",
       "    </tr>\n",
       "    <tr>\n",
       "      <th>2017-06-13</th>\n",
       "      <td>2017-06-13</td>\n",
       "      <td>1.509256</td>\n",
       "      <td>-1.037588</td>\n",
       "    </tr>\n",
       "    <tr>\n",
       "      <th>2017-06-14</th>\n",
       "      <td>2017-06-14</td>\n",
       "      <td>1.503130</td>\n",
       "      <td>-1.037588</td>\n",
       "    </tr>\n",
       "  </tbody>\n",
       "</table>\n",
       "<p>2298 rows × 3 columns</p>\n",
       "</div>"
      ],
      "text/plain": [
       "                   ds         y      unem\n",
       "date                                     \n",
       "2011-03-01 2011-03-01 -1.349348  1.637112\n",
       "2011-03-02 2011-03-02 -1.344029  1.637112\n",
       "2011-03-03 2011-03-03 -1.287236  1.637112\n",
       "2011-03-04 2011-03-04 -1.311990  1.637112\n",
       "2011-03-05 2011-03-05       NaN  1.637112\n",
       "...               ...       ...       ...\n",
       "2017-06-10 2017-06-10       NaN -1.037588\n",
       "2017-06-11 2017-06-11       NaN -1.037588\n",
       "2017-06-12 2017-06-12  1.481628 -1.037588\n",
       "2017-06-13 2017-06-13  1.509256 -1.037588\n",
       "2017-06-14 2017-06-14  1.503130 -1.037588\n",
       "\n",
       "[2298 rows x 3 columns]"
      ]
     },
     "execution_count": 18,
     "metadata": {},
     "output_type": "execute_result"
    }
   ],
   "source": [
    "m.add_regressor(\"unem\", standardize=False)\n",
    "train = features.iloc[:-200]\n",
    "test = features.iloc[-200:]\n",
    "train"
   ]
  },
  {
   "cell_type": "code",
   "execution_count": 19,
   "metadata": {},
   "outputs": [
    {
     "name": "stderr",
     "output_type": "stream",
     "text": [
      "INFO:prophet:Disabling daily seasonality. Run prophet with daily_seasonality=True to override this.\n"
     ]
    },
    {
     "data": {
      "text/plain": [
       "<prophet.forecaster.Prophet at 0x7ff4a16073d0>"
      ]
     },
     "execution_count": 19,
     "metadata": {},
     "output_type": "execute_result"
    }
   ],
   "source": [
    "m.fit(features)"
   ]
  },
  {
   "cell_type": "code",
   "execution_count": 20,
   "metadata": {},
   "outputs": [
    {
     "data": {
      "text/html": [
       "<div>\n",
       "<style scoped>\n",
       "    .dataframe tbody tr th:only-of-type {\n",
       "        vertical-align: middle;\n",
       "    }\n",
       "\n",
       "    .dataframe tbody tr th {\n",
       "        vertical-align: top;\n",
       "    }\n",
       "\n",
       "    .dataframe thead th {\n",
       "        text-align: right;\n",
       "    }\n",
       "</style>\n",
       "<table border=\"1\" class=\"dataframe\">\n",
       "  <thead>\n",
       "    <tr style=\"text-align: right;\">\n",
       "      <th></th>\n",
       "      <th>ds</th>\n",
       "    </tr>\n",
       "  </thead>\n",
       "  <tbody>\n",
       "    <tr>\n",
       "      <th>0</th>\n",
       "      <td>2011-03-01</td>\n",
       "    </tr>\n",
       "    <tr>\n",
       "      <th>1</th>\n",
       "      <td>2011-03-02</td>\n",
       "    </tr>\n",
       "    <tr>\n",
       "      <th>2</th>\n",
       "      <td>2011-03-03</td>\n",
       "    </tr>\n",
       "    <tr>\n",
       "      <th>3</th>\n",
       "      <td>2011-03-04</td>\n",
       "    </tr>\n",
       "    <tr>\n",
       "      <th>4</th>\n",
       "      <td>2011-03-05</td>\n",
       "    </tr>\n",
       "    <tr>\n",
       "      <th>...</th>\n",
       "      <td>...</td>\n",
       "    </tr>\n",
       "    <tr>\n",
       "      <th>2693</th>\n",
       "      <td>2018-07-15</td>\n",
       "    </tr>\n",
       "    <tr>\n",
       "      <th>2694</th>\n",
       "      <td>2018-07-16</td>\n",
       "    </tr>\n",
       "    <tr>\n",
       "      <th>2695</th>\n",
       "      <td>2018-07-17</td>\n",
       "    </tr>\n",
       "    <tr>\n",
       "      <th>2696</th>\n",
       "      <td>2018-07-18</td>\n",
       "    </tr>\n",
       "    <tr>\n",
       "      <th>2697</th>\n",
       "      <td>2018-07-19</td>\n",
       "    </tr>\n",
       "  </tbody>\n",
       "</table>\n",
       "<p>2698 rows × 1 columns</p>\n",
       "</div>"
      ],
      "text/plain": [
       "             ds\n",
       "0    2011-03-01\n",
       "1    2011-03-02\n",
       "2    2011-03-03\n",
       "3    2011-03-04\n",
       "4    2011-03-05\n",
       "...         ...\n",
       "2693 2018-07-15\n",
       "2694 2018-07-16\n",
       "2695 2018-07-17\n",
       "2696 2018-07-18\n",
       "2697 2018-07-19\n",
       "\n",
       "[2698 rows x 1 columns]"
      ]
     },
     "execution_count": 20,
     "metadata": {},
     "output_type": "execute_result"
    }
   ],
   "source": [
    "future = m.make_future_dataframe(periods=200)\n",
    "future"
   ]
  },
  {
   "cell_type": "code",
   "execution_count": 21,
   "metadata": {},
   "outputs": [],
   "source": [
    "# future.set_index(\"ds\", inplace=True)\n",
    "future['unem'] = features['unem']\n",
    "future.reset_index(inplace=True)"
   ]
  },
  {
   "cell_type": "code",
   "execution_count": 22,
   "metadata": {},
   "outputs": [
    {
     "data": {
      "text/html": [
       "<div>\n",
       "<style scoped>\n",
       "    .dataframe tbody tr th:only-of-type {\n",
       "        vertical-align: middle;\n",
       "    }\n",
       "\n",
       "    .dataframe tbody tr th {\n",
       "        vertical-align: top;\n",
       "    }\n",
       "\n",
       "    .dataframe thead th {\n",
       "        text-align: right;\n",
       "    }\n",
       "</style>\n",
       "<table border=\"1\" class=\"dataframe\">\n",
       "  <thead>\n",
       "    <tr style=\"text-align: right;\">\n",
       "      <th></th>\n",
       "      <th>index</th>\n",
       "      <th>ds</th>\n",
       "      <th>unem</th>\n",
       "    </tr>\n",
       "  </thead>\n",
       "  <tbody>\n",
       "    <tr>\n",
       "      <th>2693</th>\n",
       "      <td>2693</td>\n",
       "      <td>2018-07-15</td>\n",
       "      <td>NaN</td>\n",
       "    </tr>\n",
       "    <tr>\n",
       "      <th>2694</th>\n",
       "      <td>2694</td>\n",
       "      <td>2018-07-16</td>\n",
       "      <td>NaN</td>\n",
       "    </tr>\n",
       "    <tr>\n",
       "      <th>2695</th>\n",
       "      <td>2695</td>\n",
       "      <td>2018-07-17</td>\n",
       "      <td>NaN</td>\n",
       "    </tr>\n",
       "    <tr>\n",
       "      <th>2696</th>\n",
       "      <td>2696</td>\n",
       "      <td>2018-07-18</td>\n",
       "      <td>NaN</td>\n",
       "    </tr>\n",
       "    <tr>\n",
       "      <th>2697</th>\n",
       "      <td>2697</td>\n",
       "      <td>2018-07-19</td>\n",
       "      <td>NaN</td>\n",
       "    </tr>\n",
       "  </tbody>\n",
       "</table>\n",
       "</div>"
      ],
      "text/plain": [
       "      index         ds  unem\n",
       "2693   2693 2018-07-15   NaN\n",
       "2694   2694 2018-07-16   NaN\n",
       "2695   2695 2018-07-17   NaN\n",
       "2696   2696 2018-07-18   NaN\n",
       "2697   2697 2018-07-19   NaN"
      ]
     },
     "execution_count": 22,
     "metadata": {},
     "output_type": "execute_result"
    }
   ],
   "source": [
    "future.tail()"
   ]
  },
  {
   "cell_type": "code",
   "execution_count": 23,
   "metadata": {},
   "outputs": [
    {
     "ename": "ValueError",
     "evalue": "Found NaN in column 'unem'",
     "output_type": "error",
     "traceback": [
      "\u001b[0;31m---------------------------------------------------------------------------\u001b[0m",
      "\u001b[0;31mValueError\u001b[0m                                Traceback (most recent call last)",
      "\u001b[0;32m<ipython-input-23-cfeca08f86d4>\u001b[0m in \u001b[0;36m<module>\u001b[0;34m\u001b[0m\n\u001b[0;32m----> 1\u001b[0;31m \u001b[0mforecast\u001b[0m \u001b[0;34m=\u001b[0m \u001b[0mm\u001b[0m\u001b[0;34m.\u001b[0m\u001b[0mpredict\u001b[0m\u001b[0;34m(\u001b[0m\u001b[0mfuture\u001b[0m\u001b[0;34m)\u001b[0m\u001b[0;34m\u001b[0m\u001b[0;34m\u001b[0m\u001b[0m\n\u001b[0m",
      "\u001b[0;32m~/opt/anaconda3/lib/python3.8/site-packages/prophet/forecaster.py\u001b[0m in \u001b[0;36mpredict\u001b[0;34m(self, df)\u001b[0m\n\u001b[1;32m   1203\u001b[0m             \u001b[0;32mif\u001b[0m \u001b[0mdf\u001b[0m\u001b[0;34m.\u001b[0m\u001b[0mshape\u001b[0m\u001b[0;34m[\u001b[0m\u001b[0;36m0\u001b[0m\u001b[0;34m]\u001b[0m \u001b[0;34m==\u001b[0m \u001b[0;36m0\u001b[0m\u001b[0;34m:\u001b[0m\u001b[0;34m\u001b[0m\u001b[0;34m\u001b[0m\u001b[0m\n\u001b[1;32m   1204\u001b[0m                 \u001b[0;32mraise\u001b[0m \u001b[0mValueError\u001b[0m\u001b[0;34m(\u001b[0m\u001b[0;34m'Dataframe has no rows.'\u001b[0m\u001b[0;34m)\u001b[0m\u001b[0;34m\u001b[0m\u001b[0;34m\u001b[0m\u001b[0m\n\u001b[0;32m-> 1205\u001b[0;31m             \u001b[0mdf\u001b[0m \u001b[0;34m=\u001b[0m \u001b[0mself\u001b[0m\u001b[0;34m.\u001b[0m\u001b[0msetup_dataframe\u001b[0m\u001b[0;34m(\u001b[0m\u001b[0mdf\u001b[0m\u001b[0;34m.\u001b[0m\u001b[0mcopy\u001b[0m\u001b[0;34m(\u001b[0m\u001b[0;34m)\u001b[0m\u001b[0;34m)\u001b[0m\u001b[0;34m\u001b[0m\u001b[0;34m\u001b[0m\u001b[0m\n\u001b[0m\u001b[1;32m   1206\u001b[0m \u001b[0;34m\u001b[0m\u001b[0m\n\u001b[1;32m   1207\u001b[0m         \u001b[0mdf\u001b[0m\u001b[0;34m[\u001b[0m\u001b[0;34m'trend'\u001b[0m\u001b[0;34m]\u001b[0m \u001b[0;34m=\u001b[0m \u001b[0mself\u001b[0m\u001b[0;34m.\u001b[0m\u001b[0mpredict_trend\u001b[0m\u001b[0;34m(\u001b[0m\u001b[0mdf\u001b[0m\u001b[0;34m)\u001b[0m\u001b[0;34m\u001b[0m\u001b[0;34m\u001b[0m\u001b[0m\n",
      "\u001b[0;32m~/opt/anaconda3/lib/python3.8/site-packages/prophet/forecaster.py\u001b[0m in \u001b[0;36msetup_dataframe\u001b[0;34m(self, df, initialize_scales)\u001b[0m\n\u001b[1;32m    281\u001b[0m             \u001b[0mdf\u001b[0m\u001b[0;34m[\u001b[0m\u001b[0mname\u001b[0m\u001b[0;34m]\u001b[0m \u001b[0;34m=\u001b[0m \u001b[0mpd\u001b[0m\u001b[0;34m.\u001b[0m\u001b[0mto_numeric\u001b[0m\u001b[0;34m(\u001b[0m\u001b[0mdf\u001b[0m\u001b[0;34m[\u001b[0m\u001b[0mname\u001b[0m\u001b[0;34m]\u001b[0m\u001b[0;34m)\u001b[0m\u001b[0;34m\u001b[0m\u001b[0;34m\u001b[0m\u001b[0m\n\u001b[1;32m    282\u001b[0m             \u001b[0;32mif\u001b[0m \u001b[0mdf\u001b[0m\u001b[0;34m[\u001b[0m\u001b[0mname\u001b[0m\u001b[0;34m]\u001b[0m\u001b[0;34m.\u001b[0m\u001b[0misnull\u001b[0m\u001b[0;34m(\u001b[0m\u001b[0;34m)\u001b[0m\u001b[0;34m.\u001b[0m\u001b[0many\u001b[0m\u001b[0;34m(\u001b[0m\u001b[0;34m)\u001b[0m\u001b[0;34m:\u001b[0m\u001b[0;34m\u001b[0m\u001b[0;34m\u001b[0m\u001b[0m\n\u001b[0;32m--> 283\u001b[0;31m                 raise ValueError(\n\u001b[0m\u001b[1;32m    284\u001b[0m                     \u001b[0;34m'Found NaN in column {name!r}'\u001b[0m\u001b[0;34m.\u001b[0m\u001b[0mformat\u001b[0m\u001b[0;34m(\u001b[0m\u001b[0mname\u001b[0m\u001b[0;34m=\u001b[0m\u001b[0mname\u001b[0m\u001b[0;34m)\u001b[0m\u001b[0;34m\u001b[0m\u001b[0;34m\u001b[0m\u001b[0m\n\u001b[1;32m    285\u001b[0m                 )\n",
      "\u001b[0;31mValueError\u001b[0m: Found NaN in column 'unem'"
     ]
    }
   ],
   "source": [
    "forecast = m.predict(future)"
   ]
  },
  {
   "cell_type": "code",
   "execution_count": null,
   "metadata": {},
   "outputs": [],
   "source": [
    "forecast.set_index(\"ds\", inplace=True)"
   ]
  },
  {
   "cell_type": "code",
   "execution_count": null,
   "metadata": {},
   "outputs": [],
   "source": [
    "fig, ax = plt.subplots(figsize=(16,9))\n",
    "forecast['yhat'].plot(ax=ax)\n",
    "features['y'].plot(ax=ax)"
   ]
  },
  {
   "cell_type": "code",
   "execution_count": null,
   "metadata": {},
   "outputs": [],
   "source": [
    "!pip install yfinance"
   ]
  },
  {
   "cell_type": "code",
   "execution_count": null,
   "metadata": {},
   "outputs": [],
   "source": [
    "import yfinance as yf\n",
    "\n",
    "test_obs = pd.read_csv(\"data/observations_test.csv\")\n",
    "test_unem = normalize(test_obs.query(\"\"\"series_id == 'UNRATE'\"\"\").set_index(\"date\"))['value']\n",
    "\n",
    "ticker = yf.Ticker(\"SPY\")\n",
    "hist = ticker.history(start=\"2018-01-02\",  end=\"2020-04-01\")"
   ]
  },
  {
   "cell_type": "code",
   "execution_count": null,
   "metadata": {},
   "outputs": [],
   "source": [
    "hist['Close'].plot()"
   ]
  },
  {
   "cell_type": "code",
   "execution_count": null,
   "metadata": {},
   "outputs": [],
   "source": [
    "test_unem.index = pd.to_datetime(test_unem.index)\n",
    "test_unem"
   ]
  },
  {
   "cell_type": "code",
   "execution_count": null,
   "metadata": {},
   "outputs": [],
   "source": [
    "future2 = m.make_future_dataframe(periods=822)"
   ]
  },
  {
   "cell_type": "code",
   "execution_count": null,
   "metadata": {},
   "outputs": [],
   "source": [
    "future2.set_index(\"ds\", inplace=True)\n",
    "future2.tail()"
   ]
  },
  {
   "cell_type": "code",
   "execution_count": null,
   "metadata": {},
   "outputs": [],
   "source": [
    "future2['unem'] = features['unem'].append(test_unem)\n",
    "future2['unem'] = future2['unem'].fillna(method='bfill')\n",
    "future2.tail()"
   ]
  },
  {
   "cell_type": "code",
   "execution_count": null,
   "metadata": {},
   "outputs": [],
   "source": [
    "future2.reset_index(inplace=True)"
   ]
  },
  {
   "cell_type": "code",
   "execution_count": null,
   "metadata": {},
   "outputs": [],
   "source": [
    "future2"
   ]
  },
  {
   "cell_type": "code",
   "execution_count": null,
   "metadata": {},
   "outputs": [],
   "source": [
    "forecastback = m.predict(future2)"
   ]
  },
  {
   "cell_type": "code",
   "execution_count": null,
   "metadata": {},
   "outputs": [],
   "source": [
    "forecastback"
   ]
  },
  {
   "cell_type": "code",
   "execution_count": null,
   "metadata": {},
   "outputs": [],
   "source": [
    "full_sp500 = ticker.history(start=\"2011-03-01\",  end=\"2020-04-01\")"
   ]
  },
  {
   "cell_type": "code",
   "execution_count": null,
   "metadata": {},
   "outputs": [],
   "source": [
    "fig,ax = plt.subplots(figsize=(16, 9))\n",
    "forecastback[['ds', 'yhat_lower', 'yhat', 'yhat_upper']].plot(\"ds\", ax=ax)\n",
    "normalize(full_sp500['Close']).plot(ax=ax)\n",
    "# ax.set_xlim(['2020-02-01', '2020-04-01'])"
   ]
  },
  {
   "cell_type": "markdown",
   "metadata": {},
   "source": [
    "Adding infectious diseases"
   ]
  },
  {
   "cell_type": "code",
   "execution_count": null,
   "metadata": {},
   "outputs": [],
   "source": [
    "series.loc[series.name.str.contains(\"Disease\")]"
   ]
  },
  {
   "cell_type": "code",
   "execution_count": null,
   "metadata": {},
   "outputs": [],
   "source": [
    "normed_obs['INFECTDISEMVTRACKD'].plot()"
   ]
  },
  {
   "cell_type": "code",
   "execution_count": null,
   "metadata": {},
   "outputs": [],
   "source": [
    "corona = test_obs.query(\"\"\"series_id == 'INFECTDISEMVTRACKD'\"\"\")\n",
    "corona.set_index(pd.to_datetime(corona.date), inplace=True)\n",
    "corona['value'].plot()\n",
    "corona"
   ]
  },
  {
   "cell_type": "code",
   "execution_count": null,
   "metadata": {},
   "outputs": [],
   "source": [
    "m2 = Prophet()"
   ]
  },
  {
   "cell_type": "code",
   "execution_count": null,
   "metadata": {},
   "outputs": [],
   "source": [
    "m2.add_regressor(\"unem\", standardize=False)\n",
    "m2.add_regressor(\"infect\", standardize=False)\n",
    "\n",
    "features['infect'] = normed_obs['INFECTDISEMVTRACKD']\n",
    "features"
   ]
  },
  {
   "cell_type": "code",
   "execution_count": null,
   "metadata": {},
   "outputs": [],
   "source": [
    "m2.fit(features)"
   ]
  },
  {
   "cell_type": "code",
   "execution_count": null,
   "metadata": {},
   "outputs": [],
   "source": [
    "future3 = future2.copy(deep=True)\n",
    "future3.set_index(\"ds\", inplace=True)\n",
    "raw_infect = observations.query(\"\"\"series_id == 'INFECTDISEMVTRACKD'\"\"\")\n",
    "raw_infect.set_index(pd.to_datetime(raw_infect.date), inplace=True)\n",
    "raw_infect"
   ]
  },
  {
   "cell_type": "code",
   "execution_count": null,
   "metadata": {},
   "outputs": [],
   "source": [
    "future3['infect'] = raw_infect['value'].append(corona['value'])\n",
    "future3.reset_index(inplace=True)\n",
    "future3['infect'].fillna(method='ffill', inplace=True)\n",
    "future3.head()"
   ]
  },
  {
   "cell_type": "code",
   "execution_count": null,
   "metadata": {},
   "outputs": [],
   "source": [
    "future3.query(\"infect != infect\")"
   ]
  },
  {
   "cell_type": "code",
   "execution_count": null,
   "metadata": {},
   "outputs": [],
   "source": [
    "forecast3 = m2.predict(future3)\n",
    "forecast3"
   ]
  },
  {
   "cell_type": "code",
   "execution_count": null,
   "metadata": {},
   "outputs": [],
   "source": [
    "fig,ax = plt.subplots(figsize=(16, 9))\n",
    "forecast3[['ds', 'yhat_lower', 'yhat', 'yhat_upper']].plot(\"ds\", ax=ax)\n",
    "normalize(full_sp500['Close']).plot(ax=ax)"
   ]
  },
  {
   "cell_type": "code",
   "execution_count": 297,
   "metadata": {},
   "outputs": [
    {
     "data": {
      "text/plain": [
       "array(['AAA10Y', 'ASEANTOT', 'BAA10Y', 'BUSAPPWNSAUS', 'BUSAPPWNSAUSYY',\n",
       "       'CBUSAPPWNSAUS', 'CBUSAPPWNSAUSYY', 'CUUR0000SA0R', 'DEXCHUS',\n",
       "       'DEXJPUS', 'DEXUSEU', 'DEXUSUK', 'DFII10', 'DFII20', 'DFII30',\n",
       "       'DFII5', 'DFII7', 'DLTIIT', 'DPCREDIT', 'DPRIME', 'EECTOT', 'EFFR',\n",
       "       'EFFRVOL', 'FRGSHPUSM649NCIS', 'GVIPT50002S', 'GVIPT50030S',\n",
       "       'GVIPT51000S', 'GVIPT51100S', 'GVIPT51110S', 'GVIPT51120S',\n",
       "       'GVIPT51200S', 'GVIPT52000S', 'GVIPT52100S', 'GVIPT521A3S',\n",
       "       'GVIPT52300S', 'GVIPT54000S', 'GVIPT54100S', 'GVIPT54200S',\n",
       "       'GVIPT54220S', 'INFECTDISEMVTRACKD', 'IOER', 'IORR',\n",
       "       'MEDCPIM158SFRBCLE', 'MORTGAGE15US', 'MORTGAGE30US', 'OBFR',\n",
       "       'OBFRVOL', 'PCUADLVWRADLVWR', 'PCUAINFOAINFO', 'PCUAMUMAMUM',\n",
       "       'PCUARETTRARETTR', 'PCUASHCASHC', 'PCUASTDSVASTDSV',\n",
       "       'PCUATRADEATRADE', 'PCUATRANSATRANS', 'PCUATRNWRATRNWR',\n",
       "       'PCUATTDSVATTDSV', 'PCUAWHLTRAWHLTR', 'PCUOMFGOMFG', 'PCUOMINOMIN',\n",
       "       'SFTPAGRM158SFRBSF', 'SOFR', 'SOFRVOL', 'SP500', 'T10YIE',\n",
       "       'TEDRATE', 'TLAACBW027NBOG', 'TLBACBW027NBOG', 'TSIFRGHT',\n",
       "       'UNRATE', 'WLEMUINDXD'], dtype=object)"
      ]
     },
     "execution_count": 297,
     "metadata": {},
     "output_type": "execute_result"
    }
   ],
   "source": [
    "series.series_id.unique()"
   ]
  },
  {
   "cell_type": "code",
   "execution_count": null,
   "metadata": {},
   "outputs": [],
   "source": []
  }
 ],
 "metadata": {
  "kernelspec": {
   "display_name": "Python 3",
   "language": "python",
   "name": "python3"
  },
  "language_info": {
   "codemirror_mode": {
    "name": "ipython",
    "version": 3
   },
   "file_extension": ".py",
   "mimetype": "text/x-python",
   "name": "python",
   "nbconvert_exporter": "python",
   "pygments_lexer": "ipython3",
   "version": "3.8.5"
  }
 },
 "nbformat": 4,
 "nbformat_minor": 5
}
