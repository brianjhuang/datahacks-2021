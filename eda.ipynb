{
 "cells": [
  {
   "cell_type": "code",
   "execution_count": 2,
   "id": "9428adf8",
   "metadata": {},
   "outputs": [
    {
     "name": "stderr",
     "output_type": "stream",
     "text": [
      "Importing plotly failed. Interactive plots will not work.\n"
     ]
    }
   ],
   "source": [
    "import pandas as pd\n",
    "import numpy as np\n",
    "import matplotlib.pyplot as plt\n",
    "from prophet import Prophet"
   ]
  },
  {
   "cell_type": "code",
   "execution_count": 95,
   "id": "19563309",
   "metadata": {},
   "outputs": [
    {
     "data": {
      "text/html": [
       "<div>\n",
       "<style scoped>\n",
       "    .dataframe tbody tr th:only-of-type {\n",
       "        vertical-align: middle;\n",
       "    }\n",
       "\n",
       "    .dataframe tbody tr th {\n",
       "        vertical-align: top;\n",
       "    }\n",
       "\n",
       "    .dataframe thead th {\n",
       "        text-align: right;\n",
       "    }\n",
       "</style>\n",
       "<table border=\"1\" class=\"dataframe\">\n",
       "  <thead>\n",
       "    <tr style=\"text-align: right;\">\n",
       "      <th></th>\n",
       "      <th>series_id</th>\n",
       "      <th>date</th>\n",
       "      <th>value</th>\n",
       "    </tr>\n",
       "  </thead>\n",
       "  <tbody>\n",
       "    <tr>\n",
       "      <th>84020</th>\n",
       "      <td>SP500</td>\n",
       "      <td>02-14-2011 00:00:00</td>\n",
       "      <td>1332.32</td>\n",
       "    </tr>\n",
       "    <tr>\n",
       "      <th>84021</th>\n",
       "      <td>SP500</td>\n",
       "      <td>02-15-2011 00:00:00</td>\n",
       "      <td>1328.01</td>\n",
       "    </tr>\n",
       "    <tr>\n",
       "      <th>84022</th>\n",
       "      <td>SP500</td>\n",
       "      <td>02-16-2011 00:00:00</td>\n",
       "      <td>1336.32</td>\n",
       "    </tr>\n",
       "    <tr>\n",
       "      <th>84023</th>\n",
       "      <td>SP500</td>\n",
       "      <td>02-17-2011 00:00:00</td>\n",
       "      <td>1340.43</td>\n",
       "    </tr>\n",
       "    <tr>\n",
       "      <th>84024</th>\n",
       "      <td>SP500</td>\n",
       "      <td>02-18-2011 00:00:00</td>\n",
       "      <td>1343.01</td>\n",
       "    </tr>\n",
       "  </tbody>\n",
       "</table>\n",
       "</div>"
      ],
      "text/plain": [
       "      series_id                 date    value\n",
       "84020     SP500  02-14-2011 00:00:00  1332.32\n",
       "84021     SP500  02-15-2011 00:00:00  1328.01\n",
       "84022     SP500  02-16-2011 00:00:00  1336.32\n",
       "84023     SP500  02-17-2011 00:00:00  1340.43\n",
       "84024     SP500  02-18-2011 00:00:00  1343.01"
      ]
     },
     "execution_count": 95,
     "metadata": {},
     "output_type": "execute_result"
    }
   ],
   "source": [
    "raw_observations = pd.read_csv(\"observations_train.csv\")\n",
    "raw_series = pd.read_csv(\"series.csv\")\n",
    "raw_observations.loc[raw_observations.series_id == \"SP500\"].head()"
   ]
  },
  {
   "cell_type": "code",
   "execution_count": 97,
   "id": "da70e7d9",
   "metadata": {},
   "outputs": [
    {
     "data": {
      "text/plain": [
       "array(['AAA10Y', 'ASEANTOT', 'BAA10Y', 'BUSAPPWNSAUS', 'BUSAPPWNSAUSYY',\n",
       "       'CBUSAPPWNSAUS', 'CBUSAPPWNSAUSYY', 'CUUR0000SA0R', 'DEXCHUS',\n",
       "       'DEXJPUS', 'DEXUSEU', 'DEXUSUK', 'DFII10', 'DFII20', 'DFII30',\n",
       "       'DFII5', 'DFII7', 'DLTIIT', 'DPCREDIT', 'DPRIME', 'EECTOT', 'EFFR',\n",
       "       'EFFRVOL', 'FRGSHPUSM649NCIS', 'GVIPT50002S', 'GVIPT50030S',\n",
       "       'GVIPT51000S', 'GVIPT51100S', 'GVIPT51110S', 'GVIPT51120S',\n",
       "       'GVIPT51200S', 'GVIPT52000S', 'GVIPT52100S', 'GVIPT521A3S',\n",
       "       'GVIPT52300S', 'GVIPT54000S', 'GVIPT54100S', 'GVIPT54200S',\n",
       "       'GVIPT54220S', 'INFECTDISEMVTRACKD', 'IOER', 'IORR',\n",
       "       'MEDCPIM158SFRBCLE', 'MORTGAGE15US', 'MORTGAGE30US', 'OBFR',\n",
       "       'OBFRVOL', 'PCUADLVWRADLVWR', 'PCUAINFOAINFO', 'PCUAMUMAMUM',\n",
       "       'PCUARETTRARETTR', 'PCUASHCASHC', 'PCUASTDSVASTDSV',\n",
       "       'PCUATRADEATRADE', 'PCUATRANSATRANS', 'PCUATRNWRATRNWR',\n",
       "       'PCUATTDSVATTDSV', 'PCUAWHLTRAWHLTR', 'PCUOMFGOMFG', 'PCUOMINOMIN',\n",
       "       'SFTPAGRM158SFRBSF', 'SOFR', 'SOFRVOL', 'SP500', 'T10YIE',\n",
       "       'TEDRATE', 'TLAACBW027NBOG', 'TLBACBW027NBOG', 'TSIFRGHT',\n",
       "       'UNRATE', 'WLEMUINDXD'], dtype=object)"
      ]
     },
     "execution_count": 97,
     "metadata": {},
     "output_type": "execute_result"
    }
   ],
   "source": [
    "raw_series.series_id.unique()"
   ]
  },
  {
   "cell_type": "code",
   "execution_count": 63,
   "id": "bfba360a",
   "metadata": {},
   "outputs": [],
   "source": [
    "raw_observations['date'] = pd.to_datetime(raw_observations.date)"
   ]
  },
  {
   "cell_type": "code",
   "execution_count": 65,
   "id": "23c4c449",
   "metadata": {},
   "outputs": [
    {
     "data": {
      "text/plain": [
       "<AxesSubplot:xlabel='date'>"
      ]
     },
     "execution_count": 65,
     "metadata": {},
     "output_type": "execute_result"
    },
    {
     "data": {
      "image/png": "[encoded data removed]",
      "text/plain": [
       "<Figure size 432x288 with 1 Axes>"
      ]
     },
     "metadata": {
      "needs_background": "light"
     },
     "output_type": "display_data"
    }
   ],
   "source": [
    "AAA = raw_observations.loc[raw_observations.series_id == 'AAA10Y']\n",
    "SP500 = raw_observations.loc[raw_observations.series_id == 'SP500']\n",
    "SP500.plot(\"date\")"
   ]
  },
  {
   "cell_type": "code",
   "execution_count": 90,
   "id": "10339b66",
   "metadata": {},
   "outputs": [],
   "source": [
    "model = Prophet()"
   ]
  },
  {
   "cell_type": "code",
   "execution_count": 91,
   "id": "2ac20b3e",
   "metadata": {},
   "outputs": [
    {
     "name": "stderr",
     "output_type": "stream",
     "text": [
      "INFO:prophet:Disabling daily seasonality. Run prophet with daily_seasonality=True to override this.\n"
     ]
    },
    {
     "data": {
      "text/plain": [
       "<prophet.forecaster.Prophet at 0x7fc80335a4f0>"
      ]
     },
     "execution_count": 91,
     "metadata": {},
     "output_type": "execute_result"
    }
   ],
   "source": [
    "features = pd.DataFrame({'ds': SP500.iloc[:-200].date, 'y': SP500.iloc[:-200].value})\n",
    "model.fit(features)"
   ]
  },
  {
   "cell_type": "code",
   "execution_count": 92,
   "id": "219627de",
   "metadata": {},
   "outputs": [
    {
     "data": {
      "text/html": [
       "<div>\n",
       "<style scoped>\n",
       "    .dataframe tbody tr th:only-of-type {\n",
       "        vertical-align: middle;\n",
       "    }\n",
       "\n",
       "    .dataframe tbody tr th {\n",
       "        vertical-align: top;\n",
       "    }\n",
       "\n",
       "    .dataframe thead th {\n",
       "        text-align: right;\n",
       "    }\n",
       "</style>\n",
       "<table border=\"1\" class=\"dataframe\">\n",
       "  <thead>\n",
       "    <tr style=\"text-align: right;\">\n",
       "      <th></th>\n",
       "      <th>ds</th>\n",
       "      <th>trend</th>\n",
       "      <th>yhat_lower</th>\n",
       "      <th>yhat_upper</th>\n",
       "      <th>trend_lower</th>\n",
       "      <th>trend_upper</th>\n",
       "      <th>additive_terms</th>\n",
       "      <th>additive_terms_lower</th>\n",
       "      <th>additive_terms_upper</th>\n",
       "      <th>weekly</th>\n",
       "      <th>weekly_lower</th>\n",
       "      <th>weekly_upper</th>\n",
       "      <th>yearly</th>\n",
       "      <th>yearly_lower</th>\n",
       "      <th>yearly_upper</th>\n",
       "      <th>multiplicative_terms</th>\n",
       "      <th>multiplicative_terms_lower</th>\n",
       "      <th>multiplicative_terms_upper</th>\n",
       "      <th>yhat</th>\n",
       "    </tr>\n",
       "  </thead>\n",
       "  <tbody>\n",
       "    <tr>\n",
       "      <th>1790</th>\n",
       "      <td>2017-10-06</td>\n",
       "      <td>2498.565178</td>\n",
       "      <td>2374.870348</td>\n",
       "      <td>2543.645854</td>\n",
       "      <td>2434.921869</td>\n",
       "      <td>2568.260220</td>\n",
       "      <td>-41.048626</td>\n",
       "      <td>-41.048626</td>\n",
       "      <td>-41.048626</td>\n",
       "      <td>-0.019951</td>\n",
       "      <td>-0.019951</td>\n",
       "      <td>-0.019951</td>\n",
       "      <td>-41.028674</td>\n",
       "      <td>-41.028674</td>\n",
       "      <td>-41.028674</td>\n",
       "      <td>0.0</td>\n",
       "      <td>0.0</td>\n",
       "      <td>0.0</td>\n",
       "      <td>2457.516552</td>\n",
       "    </tr>\n",
       "    <tr>\n",
       "      <th>1791</th>\n",
       "      <td>2017-10-07</td>\n",
       "      <td>2499.408449</td>\n",
       "      <td>2379.788216</td>\n",
       "      <td>2552.034928</td>\n",
       "      <td>2435.068351</td>\n",
       "      <td>2569.493488</td>\n",
       "      <td>-40.490826</td>\n",
       "      <td>-40.490826</td>\n",
       "      <td>-40.490826</td>\n",
       "      <td>0.493811</td>\n",
       "      <td>0.493811</td>\n",
       "      <td>0.493811</td>\n",
       "      <td>-40.984637</td>\n",
       "      <td>-40.984637</td>\n",
       "      <td>-40.984637</td>\n",
       "      <td>0.0</td>\n",
       "      <td>0.0</td>\n",
       "      <td>0.0</td>\n",
       "      <td>2458.917623</td>\n",
       "    </tr>\n",
       "    <tr>\n",
       "      <th>1792</th>\n",
       "      <td>2017-10-08</td>\n",
       "      <td>2500.251719</td>\n",
       "      <td>2380.214943</td>\n",
       "      <td>2543.292013</td>\n",
       "      <td>2435.022265</td>\n",
       "      <td>2570.728749</td>\n",
       "      <td>-40.193851</td>\n",
       "      <td>-40.193851</td>\n",
       "      <td>-40.193851</td>\n",
       "      <td>0.493810</td>\n",
       "      <td>0.493810</td>\n",
       "      <td>0.493810</td>\n",
       "      <td>-40.687661</td>\n",
       "      <td>-40.687661</td>\n",
       "      <td>-40.687661</td>\n",
       "      <td>0.0</td>\n",
       "      <td>0.0</td>\n",
       "      <td>0.0</td>\n",
       "      <td>2460.057868</td>\n",
       "    </tr>\n",
       "    <tr>\n",
       "      <th>1793</th>\n",
       "      <td>2017-10-09</td>\n",
       "      <td>2501.094990</td>\n",
       "      <td>2379.501614</td>\n",
       "      <td>2545.712287</td>\n",
       "      <td>2435.210388</td>\n",
       "      <td>2572.241798</td>\n",
       "      <td>-41.352600</td>\n",
       "      <td>-41.352600</td>\n",
       "      <td>-41.352600</td>\n",
       "      <td>-1.215309</td>\n",
       "      <td>-1.215309</td>\n",
       "      <td>-1.215309</td>\n",
       "      <td>-40.137292</td>\n",
       "      <td>-40.137292</td>\n",
       "      <td>-40.137292</td>\n",
       "      <td>0.0</td>\n",
       "      <td>0.0</td>\n",
       "      <td>0.0</td>\n",
       "      <td>2459.742390</td>\n",
       "    </tr>\n",
       "    <tr>\n",
       "      <th>1794</th>\n",
       "      <td>2017-10-10</td>\n",
       "      <td>2501.938261</td>\n",
       "      <td>2376.276406</td>\n",
       "      <td>2547.416354</td>\n",
       "      <td>2435.111168</td>\n",
       "      <td>2573.618588</td>\n",
       "      <td>-39.367613</td>\n",
       "      <td>-39.367613</td>\n",
       "      <td>-39.367613</td>\n",
       "      <td>-0.029907</td>\n",
       "      <td>-0.029907</td>\n",
       "      <td>-0.029907</td>\n",
       "      <td>-39.337706</td>\n",
       "      <td>-39.337706</td>\n",
       "      <td>-39.337706</td>\n",
       "      <td>0.0</td>\n",
       "      <td>0.0</td>\n",
       "      <td>0.0</td>\n",
       "      <td>2462.570648</td>\n",
       "    </tr>\n",
       "  </tbody>\n",
       "</table>\n",
       "</div>"
      ],
      "text/plain": [
       "             ds        trend   yhat_lower   yhat_upper  trend_lower  \\\n",
       "1790 2017-10-06  2498.565178  2374.870348  2543.645854  2434.921869   \n",
       "1791 2017-10-07  2499.408449  2379.788216  2552.034928  2435.068351   \n",
       "1792 2017-10-08  2500.251719  2380.214943  2543.292013  2435.022265   \n",
       "1793 2017-10-09  2501.094990  2379.501614  2545.712287  2435.210388   \n",
       "1794 2017-10-10  2501.938261  2376.276406  2547.416354  2435.111168   \n",
       "\n",
       "      trend_upper  additive_terms  additive_terms_lower  additive_terms_upper  \\\n",
       "1790  2568.260220      -41.048626            -41.048626            -41.048626   \n",
       "1791  2569.493488      -40.490826            -40.490826            -40.490826   \n",
       "1792  2570.728749      -40.193851            -40.193851            -40.193851   \n",
       "1793  2572.241798      -41.352600            -41.352600            -41.352600   \n",
       "1794  2573.618588      -39.367613            -39.367613            -39.367613   \n",
       "\n",
       "        weekly  weekly_lower  weekly_upper     yearly  yearly_lower  \\\n",
       "1790 -0.019951     -0.019951     -0.019951 -41.028674    -41.028674   \n",
       "1791  0.493811      0.493811      0.493811 -40.984637    -40.984637   \n",
       "1792  0.493810      0.493810      0.493810 -40.687661    -40.687661   \n",
       "1793 -1.215309     -1.215309     -1.215309 -40.137292    -40.137292   \n",
       "1794 -0.029907     -0.029907     -0.029907 -39.337706    -39.337706   \n",
       "\n",
       "      yearly_upper  multiplicative_terms  multiplicative_terms_lower  \\\n",
       "1790    -41.028674                   0.0                         0.0   \n",
       "1791    -40.984637                   0.0                         0.0   \n",
       "1792    -40.687661                   0.0                         0.0   \n",
       "1793    -40.137292                   0.0                         0.0   \n",
       "1794    -39.337706                   0.0                         0.0   \n",
       "\n",
       "      multiplicative_terms_upper         yhat  \n",
       "1790                         0.0  2457.516552  \n",
       "1791                         0.0  2458.917623  \n",
       "1792                         0.0  2460.057868  \n",
       "1793                         0.0  2459.742390  \n",
       "1794                         0.0  2462.570648  "
      ]
     },
     "execution_count": 92,
     "metadata": {},
     "output_type": "execute_result"
    }
   ],
   "source": [
    "future = model.make_future_dataframe(periods=200)\n",
    "forecast = model.predict(future)\n",
    "forecast.tail()"
   ]
  },
  {
   "cell_type": "code",
   "execution_count": 93,
   "id": "4823c67d",
   "metadata": {},
   "outputs": [
    {
     "data": {
      "text/plain": [
       "<AxesSubplot:xlabel='ds'>"
      ]
     },
     "execution_count": 93,
     "metadata": {},
     "output_type": "execute_result"
    },
    {
     "data": {
      "image/png": "[encoded data removed]",
      "text/plain": [
       "<Figure size 1152x648 with 1 Axes>"
      ]
     },
     "metadata": {
      "needs_background": "light"
     },
     "output_type": "display_data"
    }
   ],
   "source": [
    "fig, ax = plt.subplots(figsize=(16, 9))\n",
    "forecast.set_index(\"ds\")[['yhat']].join(SP500.set_index('date')).plot(ax = ax)"
   ]
  },
  {
   "cell_type": "code",
   "execution_count": null,
   "id": "cfa41b4e",
   "metadata": {},
   "outputs": [],
   "source": []
  }
 ],
 "metadata": {
  "kernelspec": {
   "display_name": "datahacks",
   "language": "python",
   "name": "datahacks"
  },
  "language_info": {
   "codemirror_mode": {
    "name": "ipython",
    "version": 3
   },
   "file_extension": ".py",
   "mimetype": "text/x-python",
   "name": "python",
   "nbconvert_exporter": "python",
   "pygments_lexer": "ipython3",
   "version": "3.8.8"
  }
 },
 "nbformat": 4,
 "nbformat_minor": 5
}
