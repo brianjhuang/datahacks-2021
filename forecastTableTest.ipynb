{
 "cells": [
  {
   "cell_type": "code",
   "execution_count": 1,
   "id": "30e5b31b",
   "metadata": {},
   "outputs": [],
   "source": [
    "%load_ext autoreload\n",
    "%autoreload 2"
   ]
  },
  {
   "cell_type": "code",
   "execution_count": 2,
   "id": "fbee999d",
   "metadata": {},
   "outputs": [
    {
     "name": "stderr",
     "output_type": "stream",
     "text": [
      "Importing plotly failed. Interactive plots will not work.\n"
     ]
    }
   ],
   "source": [
    "import numpy as np\n",
    "import pandas as pd\n",
    "from prophet import Prophet\n",
    "from forecastTable import forecastTable\n",
    "from columnCleaner import columnCleaner"
   ]
  },
  {
   "cell_type": "code",
   "execution_count": 3,
   "id": "42e257bb",
   "metadata": {},
   "outputs": [
    {
     "data": {
      "text/plain": [
       "'2021-02-12 00:00:00.0000000'"
      ]
     },
     "execution_count": 3,
     "metadata": {},
     "output_type": "execute_result"
    }
   ],
   "source": [
    "train_obs = pd.read_csv(\"data/observations_train.csv\")\n",
    "test_obs = pd.read_csv(\"data/observations_test.csv\")\n",
    "series = pd.read_csv(\"data/series.csv\")\n",
    "\n",
    "normalize = lambda col: (col-col.mean())/col.std()\n",
    "normed_obs = train_obs.pivot_table(values=\"value\", index=\"date\", columns=\"series_id\")\n",
    "normed_obs = normed_obs.apply(normalize, axis=0)\n",
    "test_obs['date'].unique()[-1]"
   ]
  },
  {
   "cell_type": "code",
   "execution_count": 4,
   "id": "1caa05f2",
   "metadata": {},
   "outputs": [
    {
     "name": "stdout",
     "output_type": "stream",
     "text": [
      "Dropping Column: SOFR\n",
      "Dropping Column: DEXJPUS\n",
      "Dropping Column: SOFRVOL\n"
     ]
    }
   ],
   "source": [
    "cols = list(set(series['series_id'].unique()) - set(['SP500']))\n",
    "# cols = ['GVIPT54000S']\n",
    "# cols = [\"PCUADLVWRADLVWR\",\n",
    "# \"PCUAINFOAINFO\",\n",
    "# \"PCUAMUMAMUM\",\n",
    "# \"PCUARETTRARETTR\",\n",
    "# \"PCUASHCASHC\",\n",
    "# \"PCUASTDSVASTDSV\",\n",
    "# \"PCUATRADEATRADE\",\n",
    "# \"PCUATRANSATRANS\",\n",
    "# \"PCUATRNWRATRNWR\",\n",
    "# \"PCUATTDSVATTDSV\",\n",
    "# \"PCUAWHLTRAWHLTR\",\n",
    "# \"PCUOMFGOMFG\",\n",
    "# \"PCUOMINOMIN\"]\n",
    "features = columnCleaner(\"data/observations_train.csv\", columns=cols)"
   ]
  },
  {
   "cell_type": "markdown",
   "id": "6083649f",
   "metadata": {},
   "source": [
    "Not included: DEXJPUS, SOFR, and SOFRVOL"
   ]
  },
  {
   "cell_type": "code",
   "execution_count": 5,
   "id": "32779691",
   "metadata": {},
   "outputs": [],
   "source": [
    "m = Prophet()\n",
    "dropped_cols = [\"DEXJPUS\", \"SOFR\", \"SOFRVOL\"]\n",
    "for c in cols:\n",
    "    if c not in dropped_cols:\n",
    "        m.add_regressor(c, standardize=False)"
   ]
  },
  {
   "cell_type": "code",
   "execution_count": 6,
   "id": "b898b290",
   "metadata": {},
   "outputs": [
    {
     "name": "stderr",
     "output_type": "stream",
     "text": [
      "INFO:prophet:Disabling daily seasonality. Run prophet with daily_seasonality=True to override this.\n"
     ]
    },
    {
     "data": {
      "text/plain": [
       "<prophet.forecaster.Prophet at 0x7ff92d158d30>"
      ]
     },
     "execution_count": 6,
     "metadata": {},
     "output_type": "execute_result"
    }
   ],
   "source": [
    "m.fit(features)"
   ]
  },
  {
   "cell_type": "code",
   "execution_count": 7,
   "id": "9c422b51",
   "metadata": {},
   "outputs": [],
   "source": [
    "horizon = 900\n",
    "cols = list(set(cols) - set(dropped_cols))\n",
    "forecast = forecastTable(m,\n",
    "                         horizon, \n",
    "                         \"data/observations_train.csv\", \n",
    "                         \"data/observations_test.csv\",\n",
    "                        columns=cols)"
   ]
  },
  {
   "cell_type": "code",
   "execution_count": 8,
   "id": "fceec18f",
   "metadata": {},
   "outputs": [
    {
     "data": {
      "text/html": [
       "<div>\n",
       "<style scoped>\n",
       "    .dataframe tbody tr th:only-of-type {\n",
       "        vertical-align: middle;\n",
       "    }\n",
       "\n",
       "    .dataframe tbody tr th {\n",
       "        vertical-align: top;\n",
       "    }\n",
       "\n",
       "    .dataframe thead th {\n",
       "        text-align: right;\n",
       "    }\n",
       "</style>\n",
       "<table border=\"1\" class=\"dataframe\">\n",
       "  <thead>\n",
       "    <tr style=\"text-align: right;\">\n",
       "      <th></th>\n",
       "      <th>ds</th>\n",
       "      <th>trend</th>\n",
       "      <th>yhat_lower</th>\n",
       "      <th>yhat_upper</th>\n",
       "      <th>trend_lower</th>\n",
       "      <th>trend_upper</th>\n",
       "      <th>AAA10Y</th>\n",
       "      <th>AAA10Y_lower</th>\n",
       "      <th>AAA10Y_upper</th>\n",
       "      <th>ASEANTOT</th>\n",
       "      <th>...</th>\n",
       "      <th>weekly</th>\n",
       "      <th>weekly_lower</th>\n",
       "      <th>weekly_upper</th>\n",
       "      <th>yearly</th>\n",
       "      <th>yearly_lower</th>\n",
       "      <th>yearly_upper</th>\n",
       "      <th>multiplicative_terms</th>\n",
       "      <th>multiplicative_terms_lower</th>\n",
       "      <th>multiplicative_terms_upper</th>\n",
       "      <th>yhat</th>\n",
       "    </tr>\n",
       "  </thead>\n",
       "  <tbody>\n",
       "    <tr>\n",
       "      <th>0</th>\n",
       "      <td>2011-02-14</td>\n",
       "      <td>-1.213354</td>\n",
       "      <td>-1.130170</td>\n",
       "      <td>-0.989342</td>\n",
       "      <td>-1.213354</td>\n",
       "      <td>-1.213354</td>\n",
       "      <td>-0.005759</td>\n",
       "      <td>-0.005759</td>\n",
       "      <td>-0.005759</td>\n",
       "      <td>0.089447</td>\n",
       "      <td>...</td>\n",
       "      <td>0.013756</td>\n",
       "      <td>0.013756</td>\n",
       "      <td>0.013756</td>\n",
       "      <td>0.025193</td>\n",
       "      <td>0.025193</td>\n",
       "      <td>0.025193</td>\n",
       "      <td>0.0</td>\n",
       "      <td>0.0</td>\n",
       "      <td>0.0</td>\n",
       "      <td>-1.057965</td>\n",
       "    </tr>\n",
       "    <tr>\n",
       "      <th>1</th>\n",
       "      <td>2011-02-15</td>\n",
       "      <td>-1.212176</td>\n",
       "      <td>-1.130027</td>\n",
       "      <td>-0.983707</td>\n",
       "      <td>-1.212176</td>\n",
       "      <td>-1.212176</td>\n",
       "      <td>-0.023810</td>\n",
       "      <td>-0.023810</td>\n",
       "      <td>-0.023810</td>\n",
       "      <td>0.089447</td>\n",
       "      <td>...</td>\n",
       "      <td>0.013707</td>\n",
       "      <td>0.013707</td>\n",
       "      <td>0.013707</td>\n",
       "      <td>0.029605</td>\n",
       "      <td>0.029605</td>\n",
       "      <td>0.029605</td>\n",
       "      <td>0.0</td>\n",
       "      <td>0.0</td>\n",
       "      <td>0.0</td>\n",
       "      <td>-1.060403</td>\n",
       "    </tr>\n",
       "    <tr>\n",
       "      <th>2</th>\n",
       "      <td>2011-02-16</td>\n",
       "      <td>-1.210997</td>\n",
       "      <td>-1.155496</td>\n",
       "      <td>-1.004881</td>\n",
       "      <td>-1.210997</td>\n",
       "      <td>-1.210997</td>\n",
       "      <td>-0.023810</td>\n",
       "      <td>-0.023810</td>\n",
       "      <td>-0.023810</td>\n",
       "      <td>0.089447</td>\n",
       "      <td>...</td>\n",
       "      <td>0.010770</td>\n",
       "      <td>0.010770</td>\n",
       "      <td>0.010770</td>\n",
       "      <td>0.033638</td>\n",
       "      <td>0.033638</td>\n",
       "      <td>0.033638</td>\n",
       "      <td>0.0</td>\n",
       "      <td>0.0</td>\n",
       "      <td>0.0</td>\n",
       "      <td>-1.078986</td>\n",
       "    </tr>\n",
       "    <tr>\n",
       "      <th>3</th>\n",
       "      <td>2011-02-17</td>\n",
       "      <td>-1.209819</td>\n",
       "      <td>-1.140077</td>\n",
       "      <td>-0.990953</td>\n",
       "      <td>-1.209819</td>\n",
       "      <td>-1.209819</td>\n",
       "      <td>-0.032835</td>\n",
       "      <td>-0.032835</td>\n",
       "      <td>-0.032835</td>\n",
       "      <td>0.089447</td>\n",
       "      <td>...</td>\n",
       "      <td>0.008856</td>\n",
       "      <td>0.008856</td>\n",
       "      <td>0.008856</td>\n",
       "      <td>0.037273</td>\n",
       "      <td>0.037273</td>\n",
       "      <td>0.037273</td>\n",
       "      <td>0.0</td>\n",
       "      <td>0.0</td>\n",
       "      <td>0.0</td>\n",
       "      <td>-1.064890</td>\n",
       "    </tr>\n",
       "    <tr>\n",
       "      <th>4</th>\n",
       "      <td>2011-02-18</td>\n",
       "      <td>-1.208641</td>\n",
       "      <td>-1.103087</td>\n",
       "      <td>-0.953726</td>\n",
       "      <td>-1.208641</td>\n",
       "      <td>-1.208641</td>\n",
       "      <td>-0.038852</td>\n",
       "      <td>-0.038852</td>\n",
       "      <td>-0.038852</td>\n",
       "      <td>0.089447</td>\n",
       "      <td>...</td>\n",
       "      <td>0.008878</td>\n",
       "      <td>0.008878</td>\n",
       "      <td>0.008878</td>\n",
       "      <td>0.040500</td>\n",
       "      <td>0.040500</td>\n",
       "      <td>0.040500</td>\n",
       "      <td>0.0</td>\n",
       "      <td>0.0</td>\n",
       "      <td>0.0</td>\n",
       "      <td>-1.029859</td>\n",
       "    </tr>\n",
       "    <tr>\n",
       "      <th>...</th>\n",
       "      <td>...</td>\n",
       "      <td>...</td>\n",
       "      <td>...</td>\n",
       "      <td>...</td>\n",
       "      <td>...</td>\n",
       "      <td>...</td>\n",
       "      <td>...</td>\n",
       "      <td>...</td>\n",
       "      <td>...</td>\n",
       "      <td>...</td>\n",
       "      <td>...</td>\n",
       "      <td>...</td>\n",
       "      <td>...</td>\n",
       "      <td>...</td>\n",
       "      <td>...</td>\n",
       "      <td>...</td>\n",
       "      <td>...</td>\n",
       "      <td>...</td>\n",
       "      <td>...</td>\n",
       "      <td>...</td>\n",
       "      <td>...</td>\n",
       "    </tr>\n",
       "    <tr>\n",
       "      <th>3408</th>\n",
       "      <td>2020-06-14</td>\n",
       "      <td>5.105645</td>\n",
       "      <td>2.923024</td>\n",
       "      <td>3.379913</td>\n",
       "      <td>4.897979</td>\n",
       "      <td>5.322555</td>\n",
       "      <td>-0.068936</td>\n",
       "      <td>-0.068936</td>\n",
       "      <td>-0.068936</td>\n",
       "      <td>-0.039544</td>\n",
       "      <td>...</td>\n",
       "      <td>-0.027984</td>\n",
       "      <td>-0.027984</td>\n",
       "      <td>-0.027984</td>\n",
       "      <td>0.063191</td>\n",
       "      <td>0.063191</td>\n",
       "      <td>0.063191</td>\n",
       "      <td>0.0</td>\n",
       "      <td>0.0</td>\n",
       "      <td>0.0</td>\n",
       "      <td>3.145176</td>\n",
       "    </tr>\n",
       "    <tr>\n",
       "      <th>3409</th>\n",
       "      <td>2020-06-15</td>\n",
       "      <td>5.107568</td>\n",
       "      <td>2.967967</td>\n",
       "      <td>3.413032</td>\n",
       "      <td>4.899617</td>\n",
       "      <td>5.324813</td>\n",
       "      <td>-0.068936</td>\n",
       "      <td>-0.068936</td>\n",
       "      <td>-0.068936</td>\n",
       "      <td>-0.039544</td>\n",
       "      <td>...</td>\n",
       "      <td>0.013756</td>\n",
       "      <td>0.013756</td>\n",
       "      <td>0.013756</td>\n",
       "      <td>0.060327</td>\n",
       "      <td>0.060327</td>\n",
       "      <td>0.060327</td>\n",
       "      <td>0.0</td>\n",
       "      <td>0.0</td>\n",
       "      <td>0.0</td>\n",
       "      <td>3.185975</td>\n",
       "    </tr>\n",
       "    <tr>\n",
       "      <th>3410</th>\n",
       "      <td>2020-06-16</td>\n",
       "      <td>5.109491</td>\n",
       "      <td>3.066303</td>\n",
       "      <td>3.511675</td>\n",
       "      <td>4.901081</td>\n",
       "      <td>5.327070</td>\n",
       "      <td>-0.014784</td>\n",
       "      <td>-0.014784</td>\n",
       "      <td>-0.014784</td>\n",
       "      <td>-0.039544</td>\n",
       "      <td>...</td>\n",
       "      <td>0.013707</td>\n",
       "      <td>0.013707</td>\n",
       "      <td>0.013707</td>\n",
       "      <td>0.057553</td>\n",
       "      <td>0.057553</td>\n",
       "      <td>0.057553</td>\n",
       "      <td>0.0</td>\n",
       "      <td>0.0</td>\n",
       "      <td>0.0</td>\n",
       "      <td>3.276930</td>\n",
       "    </tr>\n",
       "    <tr>\n",
       "      <th>3411</th>\n",
       "      <td>2020-06-17</td>\n",
       "      <td>5.111413</td>\n",
       "      <td>3.037818</td>\n",
       "      <td>3.479141</td>\n",
       "      <td>4.902545</td>\n",
       "      <td>5.329327</td>\n",
       "      <td>-0.035843</td>\n",
       "      <td>-0.035843</td>\n",
       "      <td>-0.035843</td>\n",
       "      <td>-0.039544</td>\n",
       "      <td>...</td>\n",
       "      <td>0.010770</td>\n",
       "      <td>0.010770</td>\n",
       "      <td>0.010770</td>\n",
       "      <td>0.054924</td>\n",
       "      <td>0.054924</td>\n",
       "      <td>0.054924</td>\n",
       "      <td>0.0</td>\n",
       "      <td>0.0</td>\n",
       "      <td>0.0</td>\n",
       "      <td>3.253834</td>\n",
       "    </tr>\n",
       "    <tr>\n",
       "      <th>3412</th>\n",
       "      <td>2020-06-18</td>\n",
       "      <td>5.113336</td>\n",
       "      <td>3.044894</td>\n",
       "      <td>3.488803</td>\n",
       "      <td>4.904010</td>\n",
       "      <td>5.331584</td>\n",
       "      <td>-0.026818</td>\n",
       "      <td>-0.026818</td>\n",
       "      <td>-0.026818</td>\n",
       "      <td>-0.039544</td>\n",
       "      <td>...</td>\n",
       "      <td>0.008856</td>\n",
       "      <td>0.008856</td>\n",
       "      <td>0.008856</td>\n",
       "      <td>0.052486</td>\n",
       "      <td>0.052486</td>\n",
       "      <td>0.052486</td>\n",
       "      <td>0.0</td>\n",
       "      <td>0.0</td>\n",
       "      <td>0.0</td>\n",
       "      <td>3.263591</td>\n",
       "    </tr>\n",
       "  </tbody>\n",
       "</table>\n",
       "<p>3413 rows × 223 columns</p>\n",
       "</div>"
      ],
      "text/plain": [
       "             ds     trend  yhat_lower  yhat_upper  trend_lower  trend_upper  \\\n",
       "0    2011-02-14 -1.213354   -1.130170   -0.989342    -1.213354    -1.213354   \n",
       "1    2011-02-15 -1.212176   -1.130027   -0.983707    -1.212176    -1.212176   \n",
       "2    2011-02-16 -1.210997   -1.155496   -1.004881    -1.210997    -1.210997   \n",
       "3    2011-02-17 -1.209819   -1.140077   -0.990953    -1.209819    -1.209819   \n",
       "4    2011-02-18 -1.208641   -1.103087   -0.953726    -1.208641    -1.208641   \n",
       "...         ...       ...         ...         ...          ...          ...   \n",
       "3408 2020-06-14  5.105645    2.923024    3.379913     4.897979     5.322555   \n",
       "3409 2020-06-15  5.107568    2.967967    3.413032     4.899617     5.324813   \n",
       "3410 2020-06-16  5.109491    3.066303    3.511675     4.901081     5.327070   \n",
       "3411 2020-06-17  5.111413    3.037818    3.479141     4.902545     5.329327   \n",
       "3412 2020-06-18  5.113336    3.044894    3.488803     4.904010     5.331584   \n",
       "\n",
       "        AAA10Y  AAA10Y_lower  AAA10Y_upper  ASEANTOT  ...    weekly  \\\n",
       "0    -0.005759     -0.005759     -0.005759  0.089447  ...  0.013756   \n",
       "1    -0.023810     -0.023810     -0.023810  0.089447  ...  0.013707   \n",
       "2    -0.023810     -0.023810     -0.023810  0.089447  ...  0.010770   \n",
       "3    -0.032835     -0.032835     -0.032835  0.089447  ...  0.008856   \n",
       "4    -0.038852     -0.038852     -0.038852  0.089447  ...  0.008878   \n",
       "...        ...           ...           ...       ...  ...       ...   \n",
       "3408 -0.068936     -0.068936     -0.068936 -0.039544  ... -0.027984   \n",
       "3409 -0.068936     -0.068936     -0.068936 -0.039544  ...  0.013756   \n",
       "3410 -0.014784     -0.014784     -0.014784 -0.039544  ...  0.013707   \n",
       "3411 -0.035843     -0.035843     -0.035843 -0.039544  ...  0.010770   \n",
       "3412 -0.026818     -0.026818     -0.026818 -0.039544  ...  0.008856   \n",
       "\n",
       "      weekly_lower  weekly_upper    yearly  yearly_lower  yearly_upper  \\\n",
       "0         0.013756      0.013756  0.025193      0.025193      0.025193   \n",
       "1         0.013707      0.013707  0.029605      0.029605      0.029605   \n",
       "2         0.010770      0.010770  0.033638      0.033638      0.033638   \n",
       "3         0.008856      0.008856  0.037273      0.037273      0.037273   \n",
       "4         0.008878      0.008878  0.040500      0.040500      0.040500   \n",
       "...            ...           ...       ...           ...           ...   \n",
       "3408     -0.027984     -0.027984  0.063191      0.063191      0.063191   \n",
       "3409      0.013756      0.013756  0.060327      0.060327      0.060327   \n",
       "3410      0.013707      0.013707  0.057553      0.057553      0.057553   \n",
       "3411      0.010770      0.010770  0.054924      0.054924      0.054924   \n",
       "3412      0.008856      0.008856  0.052486      0.052486      0.052486   \n",
       "\n",
       "      multiplicative_terms  multiplicative_terms_lower  \\\n",
       "0                      0.0                         0.0   \n",
       "1                      0.0                         0.0   \n",
       "2                      0.0                         0.0   \n",
       "3                      0.0                         0.0   \n",
       "4                      0.0                         0.0   \n",
       "...                    ...                         ...   \n",
       "3408                   0.0                         0.0   \n",
       "3409                   0.0                         0.0   \n",
       "3410                   0.0                         0.0   \n",
       "3411                   0.0                         0.0   \n",
       "3412                   0.0                         0.0   \n",
       "\n",
       "      multiplicative_terms_upper      yhat  \n",
       "0                            0.0 -1.057965  \n",
       "1                            0.0 -1.060403  \n",
       "2                            0.0 -1.078986  \n",
       "3                            0.0 -1.064890  \n",
       "4                            0.0 -1.029859  \n",
       "...                          ...       ...  \n",
       "3408                         0.0  3.145176  \n",
       "3409                         0.0  3.185975  \n",
       "3410                         0.0  3.276930  \n",
       "3411                         0.0  3.253834  \n",
       "3412                         0.0  3.263591  \n",
       "\n",
       "[3413 rows x 223 columns]"
      ]
     },
     "execution_count": 8,
     "metadata": {},
     "output_type": "execute_result"
    }
   ],
   "source": [
    "forecast"
   ]
  },
  {
   "cell_type": "code",
   "execution_count": 9,
   "id": "6a0e0faa",
   "metadata": {},
   "outputs": [],
   "source": [
    "import matplotlib.pyplot as plt"
   ]
  },
  {
   "cell_type": "code",
   "execution_count": 10,
   "id": "4ec5aa4b",
   "metadata": {},
   "outputs": [
    {
     "data": {
      "text/plain": [
       "<AxesSubplot:xlabel='ds'>"
      ]
     },
     "execution_count": 10,
     "metadata": {},
     "output_type": "execute_result"
    },
    {
     "data": {
      "image/png": "[encoded data removed]",
      "text/plain": [
       "<Figure size 1152x648 with 1 Axes>"
      ]
     },
     "metadata": {
      "needs_background": "light"
     },
     "output_type": "display_data"
    }
   ],
   "source": [
    "fig, ax = plt.subplots(figsize=(16, 9))\n",
    "forecast[['ds', 'yhat']].plot(\"ds\", ax=ax)\n",
    "# ax.set_xlim(['2020-01-01', '2020-06-18'])"
   ]
  },
  {
   "cell_type": "code",
   "execution_count": null,
   "id": "6e575078",
   "metadata": {},
   "outputs": [],
   "source": []
  },
  {
   "cell_type": "code",
   "execution_count": 11,
   "id": "af08a856",
   "metadata": {},
   "outputs": [
    {
     "data": {
      "text/html": [
       "<div>\n",
       "<style scoped>\n",
       "    .dataframe tbody tr th:only-of-type {\n",
       "        vertical-align: middle;\n",
       "    }\n",
       "\n",
       "    .dataframe tbody tr th {\n",
       "        vertical-align: top;\n",
       "    }\n",
       "\n",
       "    .dataframe thead th {\n",
       "        text-align: right;\n",
       "    }\n",
       "</style>\n",
       "<table border=\"1\" class=\"dataframe\">\n",
       "  <thead>\n",
       "    <tr style=\"text-align: right;\">\n",
       "      <th></th>\n",
       "      <th>regressor</th>\n",
       "      <th>regressor_mode</th>\n",
       "      <th>center</th>\n",
       "      <th>coef_lower</th>\n",
       "      <th>coef</th>\n",
       "      <th>coef_upper</th>\n",
       "      <th>abs_coef</th>\n",
       "    </tr>\n",
       "  </thead>\n",
       "  <tbody>\n",
       "    <tr>\n",
       "      <th>22</th>\n",
       "      <td>OBFRVOL</td>\n",
       "      <td>additive</td>\n",
       "      <td>0.0</td>\n",
       "      <td>0.002012</td>\n",
       "      <td>0.002012</td>\n",
       "      <td>0.002012</td>\n",
       "      <td>0.002012</td>\n",
       "    </tr>\n",
       "    <tr>\n",
       "      <th>52</th>\n",
       "      <td>EFFRVOL</td>\n",
       "      <td>additive</td>\n",
       "      <td>0.0</td>\n",
       "      <td>0.005947</td>\n",
       "      <td>0.005947</td>\n",
       "      <td>0.005947</td>\n",
       "      <td>0.005947</td>\n",
       "    </tr>\n",
       "    <tr>\n",
       "      <th>27</th>\n",
       "      <td>INFECTDISEMVTRACKD</td>\n",
       "      <td>additive</td>\n",
       "      <td>0.0</td>\n",
       "      <td>-0.007194</td>\n",
       "      <td>-0.007194</td>\n",
       "      <td>-0.007194</td>\n",
       "      <td>0.007194</td>\n",
       "    </tr>\n",
       "    <tr>\n",
       "      <th>37</th>\n",
       "      <td>CBUSAPPWNSAUS</td>\n",
       "      <td>additive</td>\n",
       "      <td>0.0</td>\n",
       "      <td>0.015138</td>\n",
       "      <td>0.015138</td>\n",
       "      <td>0.015138</td>\n",
       "      <td>0.015138</td>\n",
       "    </tr>\n",
       "    <tr>\n",
       "      <th>66</th>\n",
       "      <td>UNRATE</td>\n",
       "      <td>additive</td>\n",
       "      <td>0.0</td>\n",
       "      <td>0.016276</td>\n",
       "      <td>0.016276</td>\n",
       "      <td>0.016276</td>\n",
       "      <td>0.016276</td>\n",
       "    </tr>\n",
       "    <tr>\n",
       "      <th>...</th>\n",
       "      <td>...</td>\n",
       "      <td>...</td>\n",
       "      <td>...</td>\n",
       "      <td>...</td>\n",
       "      <td>...</td>\n",
       "      <td>...</td>\n",
       "      <td>...</td>\n",
       "    </tr>\n",
       "    <tr>\n",
       "      <th>42</th>\n",
       "      <td>PCUASTDSVASTDSV</td>\n",
       "      <td>additive</td>\n",
       "      <td>0.0</td>\n",
       "      <td>1.336476</td>\n",
       "      <td>1.336476</td>\n",
       "      <td>1.336476</td>\n",
       "      <td>1.336476</td>\n",
       "    </tr>\n",
       "    <tr>\n",
       "      <th>1</th>\n",
       "      <td>GVIPT54000S</td>\n",
       "      <td>additive</td>\n",
       "      <td>0.0</td>\n",
       "      <td>-1.783974</td>\n",
       "      <td>-1.783974</td>\n",
       "      <td>-1.783974</td>\n",
       "      <td>1.783974</td>\n",
       "    </tr>\n",
       "    <tr>\n",
       "      <th>10</th>\n",
       "      <td>PCUATTDSVATTDSV</td>\n",
       "      <td>additive</td>\n",
       "      <td>0.0</td>\n",
       "      <td>-2.152529</td>\n",
       "      <td>-2.152529</td>\n",
       "      <td>-2.152529</td>\n",
       "      <td>2.152529</td>\n",
       "    </tr>\n",
       "    <tr>\n",
       "      <th>32</th>\n",
       "      <td>PCUATRANSATRANS</td>\n",
       "      <td>additive</td>\n",
       "      <td>0.0</td>\n",
       "      <td>-2.225161</td>\n",
       "      <td>-2.225161</td>\n",
       "      <td>-2.225161</td>\n",
       "      <td>2.225161</td>\n",
       "    </tr>\n",
       "    <tr>\n",
       "      <th>16</th>\n",
       "      <td>PCUATRNWRATRNWR</td>\n",
       "      <td>additive</td>\n",
       "      <td>0.0</td>\n",
       "      <td>3.251867</td>\n",
       "      <td>3.251867</td>\n",
       "      <td>3.251867</td>\n",
       "      <td>3.251867</td>\n",
       "    </tr>\n",
       "  </tbody>\n",
       "</table>\n",
       "<p>67 rows × 7 columns</p>\n",
       "</div>"
      ],
      "text/plain": [
       "             regressor regressor_mode  center  coef_lower      coef  \\\n",
       "22             OBFRVOL       additive     0.0    0.002012  0.002012   \n",
       "52             EFFRVOL       additive     0.0    0.005947  0.005947   \n",
       "27  INFECTDISEMVTRACKD       additive     0.0   -0.007194 -0.007194   \n",
       "37       CBUSAPPWNSAUS       additive     0.0    0.015138  0.015138   \n",
       "66              UNRATE       additive     0.0    0.016276  0.016276   \n",
       "..                 ...            ...     ...         ...       ...   \n",
       "42     PCUASTDSVASTDSV       additive     0.0    1.336476  1.336476   \n",
       "1          GVIPT54000S       additive     0.0   -1.783974 -1.783974   \n",
       "10     PCUATTDSVATTDSV       additive     0.0   -2.152529 -2.152529   \n",
       "32     PCUATRANSATRANS       additive     0.0   -2.225161 -2.225161   \n",
       "16     PCUATRNWRATRNWR       additive     0.0    3.251867  3.251867   \n",
       "\n",
       "    coef_upper  abs_coef  \n",
       "22    0.002012  0.002012  \n",
       "52    0.005947  0.005947  \n",
       "27   -0.007194  0.007194  \n",
       "37    0.015138  0.015138  \n",
       "66    0.016276  0.016276  \n",
       "..         ...       ...  \n",
       "42    1.336476  1.336476  \n",
       "1    -1.783974  1.783974  \n",
       "10   -2.152529  2.152529  \n",
       "32   -2.225161  2.225161  \n",
       "16    3.251867  3.251867  \n",
       "\n",
       "[67 rows x 7 columns]"
      ]
     },
     "execution_count": 11,
     "metadata": {},
     "output_type": "execute_result"
    }
   ],
   "source": [
    "from prophet.utilities import regressor_coefficients\n",
    "\n",
    "factors = regressor_coefficients(m)\n",
    "factors['abs_coef'] = abs(factors['coef'])\n",
    "factors.sort_values(\"abs_coef\", ascending=True, inplace=True)\n",
    "factors"
   ]
  },
  {
   "cell_type": "code",
   "execution_count": 12,
   "id": "c711d516",
   "metadata": {},
   "outputs": [
    {
     "data": {
      "text/plain": [
       "<AxesSubplot:ylabel='regressor'>"
      ]
     },
     "execution_count": 12,
     "metadata": {},
     "output_type": "execute_result"
    },
    {
     "data": {
      "image/png": "[encoded data removed]",
      "text/plain": [
       "<Figure size 1152x1152 with 1 Axes>"
      ]
     },
     "metadata": {
      "needs_background": "light"
     },
     "output_type": "display_data"
    }
   ],
   "source": [
    "fig, ax = plt.subplots(figsize=(16, 16))\n",
    "pcucols = [\"PCUADLVWRADLVWR\",\n",
    "\"PCUAINFOAINFO\",\n",
    "\"PCUAMUMAMUM\",\n",
    "\"PCUARETTRARETTR\",\n",
    "\"PCUASHCASHC\",\n",
    "\"PCUASTDSVASTDSV\",\n",
    "\"PCUATRADEATRADE\",\n",
    "\"PCUATRANSATRANS\",\n",
    "\"PCUATRNWRATRNWR\",\n",
    "\"PCUATTDSVATTDSV\",\n",
    "\"PCUAWHLTRAWHLTR\",\n",
    "\"PCUOMFGOMFG\",\n",
    "\"PCUOMINOMIN\"]\n",
    "factors.plot.barh('regressor', 'coef', ax=ax)"
   ]
  },
  {
   "cell_type": "code",
   "execution_count": 13,
   "id": "d3db2b70",
   "metadata": {},
   "outputs": [],
   "source": [
    "t = pd.concat([normed_obs.corr()['SP500'], normalize(factors.set_index(\"regressor\")['coef'])], axis=1)"
   ]
  },
  {
   "cell_type": "code",
   "execution_count": 14,
   "id": "d50fb1fb",
   "metadata": {},
   "outputs": [
    {
     "data": {
      "text/plain": [
       "<matplotlib.collections.PathCollection at 0x7ff92f532dc0>"
      ]
     },
     "execution_count": 14,
     "metadata": {},
     "output_type": "execute_result"
    },
    {
     "data": {
      "image/png": "[encoded data removed]",
      "text/plain": [
       "<Figure size 432x288 with 1 Axes>"
      ]
     },
     "metadata": {
      "needs_background": "light"
     },
     "output_type": "display_data"
    }
   ],
   "source": [
    "plt.scatter(t.SP500, t.coef)"
   ]
  },
  {
   "cell_type": "code",
   "execution_count": 15,
   "id": "bffed9ce",
   "metadata": {},
   "outputs": [
    {
     "data": {
      "text/plain": [
       "array(['PCUATRNWRATRNWR', 'PCUATRANSATRANS', 'PCUATTDSVATTDSV',\n",
       "       'GVIPT54000S', 'PCUASTDSVASTDSV', 'TLAACBW027NBOG', 'GVIPT52100S',\n",
       "       'GVIPT54200S', 'PCUADLVWRADLVWR', 'GVIPT51100S', 'DLTIIT',\n",
       "       'GVIPT54100S', 'GVIPT51200S', 'GVIPT51000S', 'GVIPT50002S',\n",
       "       'GVIPT52000S', 'MORTGAGE30US', 'CUUR0000SA0R', 'TLBACBW027NBOG',\n",
       "       'GVIPT50030S', 'DEXCHUS', 'MORTGAGE15US', 'GVIPT521A3S',\n",
       "       'PCUAMUMAMUM', 'PCUOMINOMIN', 'PCUASHCASHC', 'PCUATRADEATRADE',\n",
       "       'DFII5', 'PCUAWHLTRAWHLTR', 'T10YIE', 'PCUOMFGOMFG', 'DFII7',\n",
       "       'EECTOT', 'DFII30', 'GVIPT51120S', 'AAA10Y', 'DFII20', 'TSIFRGHT',\n",
       "       'GVIPT54220S', 'PCUARETTRARETTR', 'DEXUSEU', 'GVIPT51110S',\n",
       "       'BAA10Y', 'SFTPAGRM158SFRBSF', 'DEXUSUK', 'OBFR', 'ASEANTOT',\n",
       "       'DPRIME', 'DPCREDIT', 'MEDCPIM158SFRBCLE', 'EFFR', 'TEDRATE',\n",
       "       'GVIPT52300S', 'DFII10', 'FRGSHPUSM649NCIS', 'PCUAINFOAINFO',\n",
       "       'WLEMUINDXD', 'IORR', 'IOER', 'BUSAPPWNSAUSYY', 'CBUSAPPWNSAUSYY',\n",
       "       'BUSAPPWNSAUS', 'UNRATE', 'CBUSAPPWNSAUS', 'INFECTDISEMVTRACKD',\n",
       "       'EFFRVOL', 'OBFRVOL'], dtype=object)"
      ]
     },
     "execution_count": 15,
     "metadata": {},
     "output_type": "execute_result"
    }
   ],
   "source": [
    "wild_cards = ['UNRATE', 'INFECTDISEMVTRACKD']\n",
    "top_cols = factors.sort_values(\"abs_coef\", ascending=False)['regressor'].values\n",
    "top_cols"
   ]
  },
  {
   "cell_type": "code",
   "execution_count": 32,
   "id": "b1ca8114",
   "metadata": {},
   "outputs": [
    {
     "name": "stderr",
     "output_type": "stream",
     "text": [
      "INFO:prophet:Disabling daily seasonality. Run prophet with daily_seasonality=True to override this.\n",
      "INFO:prophet:Making 12 forecasts with cutoffs between 2012-07-05 00:00:00 and 2017-12-28 00:00:00\n",
      "WARNING:prophet:Seasonality has period of 365.25 days which is larger than initial window. Consider increasing initial.\n"
     ]
    },
    {
     "data": {
      "application/vnd.jupyter.widget-view+json": {
       "model_id": "3f223a2076d141faa177903e0e084e15",
       "version_major": 2,
       "version_minor": 0
      },
      "text/plain": [
       "  0%|          | 0/12 [00:00<?, ?it/s]"
      ]
     },
     "metadata": {},
     "output_type": "display_data"
    },
    {
     "name": "stderr",
     "output_type": "stream",
     "text": [
      "INFO:prophet:Disabling daily seasonality. Run prophet with daily_seasonality=True to override this.\n",
      "INFO:prophet:Making 12 forecasts with cutoffs between 2012-07-05 00:00:00 and 2017-12-28 00:00:00\n",
      "WARNING:prophet:Seasonality has period of 365.25 days which is larger than initial window. Consider increasing initial.\n"
     ]
    },
    {
     "data": {
      "application/vnd.jupyter.widget-view+json": {
       "model_id": "89e9552df1814e5a819f30d337beba3d",
       "version_major": 2,
       "version_minor": 0
      },
      "text/plain": [
       "  0%|          | 0/12 [00:00<?, ?it/s]"
      ]
     },
     "metadata": {},
     "output_type": "display_data"
    },
    {
     "name": "stderr",
     "output_type": "stream",
     "text": [
      "INFO:prophet:Disabling daily seasonality. Run prophet with daily_seasonality=True to override this.\n",
      "INFO:prophet:Making 12 forecasts with cutoffs between 2012-07-05 00:00:00 and 2017-12-28 00:00:00\n",
      "WARNING:prophet:Seasonality has period of 365.25 days which is larger than initial window. Consider increasing initial.\n"
     ]
    },
    {
     "data": {
      "application/vnd.jupyter.widget-view+json": {
       "model_id": "8c15aec8ac9f436ea56db035c6130029",
       "version_major": 2,
       "version_minor": 0
      },
      "text/plain": [
       "  0%|          | 0/12 [00:00<?, ?it/s]"
      ]
     },
     "metadata": {},
     "output_type": "display_data"
    },
    {
     "name": "stderr",
     "output_type": "stream",
     "text": [
      "INFO:prophet:Disabling daily seasonality. Run prophet with daily_seasonality=True to override this.\n",
      "INFO:prophet:Making 12 forecasts with cutoffs between 2012-07-05 00:00:00 and 2017-12-28 00:00:00\n",
      "WARNING:prophet:Seasonality has period of 365.25 days which is larger than initial window. Consider increasing initial.\n"
     ]
    },
    {
     "data": {
      "application/vnd.jupyter.widget-view+json": {
       "model_id": "3de5d18661cf42cdbd461d7e3c8ba8ea",
       "version_major": 2,
       "version_minor": 0
      },
      "text/plain": [
       "  0%|          | 0/12 [00:00<?, ?it/s]"
      ]
     },
     "metadata": {},
     "output_type": "display_data"
    },
    {
     "data": {
      "text/plain": [
       "(0.21673130734384116,\n",
       " 0.36833878080755267,\n",
       " 0.22518321957979504,\n",
       " 0.39405812771646637)"
      ]
     },
     "execution_count": 32,
     "metadata": {},
     "output_type": "execute_result"
    }
   ],
   "source": [
    "from prophet.diagnostics import performance_metrics, cross_validation\n",
    "from concurrent.futures import ProcessPoolExecutor\n",
    "\n",
    "def eval_model(f):\n",
    "    \"\"\"train and evaluate model crossvalidation on f factors.\"\"\"\n",
    "    m = Prophet()\n",
    "    feat = columnCleaner(\"data/observations_train.csv\", columns=f)\n",
    "    dropped_cols = [\"DEXJPUS\", \"SOFR\", \"SOFRVOL\"]\n",
    "    for c in f:\n",
    "        if c not in dropped_cols:\n",
    "            m.add_regressor(c, standardize=False)\n",
    "    m.fit(feat)\n",
    "    df_cv = cross_validation(m, initial='365 days', period=\"180 days\", horizon='1 day')\n",
    "\n",
    "    perf = performance_metrics(df_cv)\n",
    "    \n",
    "    return perf['mape'].mean()\n",
    "\n",
    "def run_models(i):\n",
    "    \"\"\"run the models.\"\"\"\n",
    "    # model1 - no wildcards\n",
    "    fctrs = top_cols[:i]\n",
    "#     print(fctrs)\n",
    "    one = eval_model(fctrs)\n",
    "\n",
    "    # model2 - UNRATE\n",
    "    fctrs2 = np.append(fctrs, 'UNRATE')\n",
    "#     print(fctrs2)\n",
    "    two = eval_model(fctrs2)\n",
    "\n",
    "    # model3 - INFECTDISEMVTRACKD\n",
    "    fctrs3 = np.append(fctrs, 'INFECTDISEMVTRACKD')\n",
    "#     print(fctrs3)\n",
    "    three = eval_model(fctrs3)\n",
    "\n",
    "    # model4 - both\n",
    "    fctrs4 = np.append(fctrs3, 'UNRATE')\n",
    "#     print(fctrs4)\n",
    "    four = eval_model(fctrs4)\n",
    "\n",
    "    return (one, two, three, four)\n",
    "\n",
    "# with ProcessPoolExecutor() as executor:\n",
    "#     l = list(executor.map(run_models, range(1, 11)))\n",
    "run_models(5)"
   ]
  },
  {
   "cell_type": "code",
   "execution_count": null,
   "id": "68900f62",
   "metadata": {},
   "outputs": [],
   "source": [
    "%time eval_model(top_cols[:21])"
   ]
  },
  {
   "cell_type": "code",
   "execution_count": 20,
   "id": "86c98554",
   "metadata": {},
   "outputs": [],
   "source": [
    "oneseventwozero = [(2.5380135361595095,\n",
    "  3.4752944824347294,\n",
    "  2.595920158363373,\n",
    "  3.689808284365746),\n",
    " (2.5208146411166226, 3.741774828971389, 2.599282416240165, 3.571801069761113),\n",
    " (2.5632666101838217,\n",
    "  3.629799022972571,\n",
    "  2.6094263354521012,\n",
    "  3.6193939626579774),\n",
    " (1.8564845410618511,\n",
    "  2.6339568101526694,\n",
    "  1.863429723686856,\n",
    "  2.6667454134128956)]"
   ]
  },
  {
   "cell_type": "code",
   "execution_count": 25,
   "id": "28f6f1bc",
   "metadata": {},
   "outputs": [],
   "source": [
    "firstten = [(3.31440167665234, 2.2019827662180855, 3.242194235334837, 2.1508165939278125),\n",
    " (3.2452444043137394,\n",
    "  2.194939328679657,\n",
    "  3.3123241408814135,\n",
    "  2.2030626808566076),\n",
    " (3.094207117775177, 2.2192052954753296, 3.11053678319414, 2.140583631296782),\n",
    " (3.257997030812041,\n",
    "  2.3917799799751442,\n",
    "  3.2103402963776486,\n",
    "  2.364992405569559),\n",
    " (2.4446692266326395,\n",
    "  2.3078974596977107,\n",
    "  2.484030211953862,\n",
    "  2.370165771402371),\n",
    " (2.493468953857067,\n",
    "  3.0466374812620867,\n",
    "  2.511112790480943,\n",
    "  3.1652605830413774),\n",
    " (2.4748201272947625,\n",
    "  2.9516129580079737,\n",
    "  2.491768520977864,\n",
    "  2.9761009301328296),\n",
    " (2.0579406637072735,\n",
    "  3.0458878177532815,\n",
    "  1.8946516519733254,\n",
    "  3.037771775587174),\n",
    " (2.0671830376767137,\n",
    "  3.0294932596011006,\n",
    "  2.1623448586130216,\n",
    "  3.021137959581392),\n",
    " (2.2715921514641564,\n",
    "  3.3882643641717825,\n",
    "  2.2708659373803104,\n",
    "  3.4582717788654382)]"
   ]
  },
  {
   "cell_type": "code",
   "execution_count": 26,
   "id": "413d898a",
   "metadata": {},
   "outputs": [],
   "source": [
    "middle = [(2.6741761903631236,\n",
    "  3.6644906740139462,\n",
    "  2.675022082839199,\n",
    "  3.6429404403428687),\n",
    " (2.7745774602735493,\n",
    "  3.9004234700232114,\n",
    "  2.7806888881103125,\n",
    "  3.901621858183375),\n",
    " (2.216167031886056, 3.2947802671123, 2.1479983847421718, 3.2968066622496055),\n",
    " (2.0825869949053453,\n",
    "  3.1780778789374238,\n",
    "  2.087507568337204,\n",
    "  3.2040968228505635),\n",
    " (2.098498505246806, 3.230830313166221, 2.066464497287097, 3.0838851343611906),\n",
    " (2.55526463125446, 3.0493994847462664, 2.593707383999514, 3.434802113363648)]"
   ]
  },
  {
   "cell_type": "code",
   "execution_count": 33,
   "id": "a19dc24f",
   "metadata": {},
   "outputs": [
    {
     "data": {
      "text/plain": [
       "<AxesSubplot:>"
      ]
     },
     "execution_count": 33,
     "metadata": {},
     "output_type": "execute_result"
    },
    {
     "data": {
      "image/png": "[encoded data removed]",
      "text/plain": [
       "<Figure size 432x288 with 1 Axes>"
      ]
     },
     "metadata": {
      "needs_background": "light"
     },
     "output_type": "display_data"
    }
   ],
   "source": [
    "performance = firstten + middle + oneseventwozero\n",
    "performance = pd.DataFrame(performance, columns=list(range(1, 5)))\n",
    "performance.plot()"
   ]
  },
  {
   "cell_type": "code",
   "execution_count": 34,
   "id": "764087dd",
   "metadata": {},
   "outputs": [],
   "source": [
    "performance.to_csv(\"model_perf.csv\")"
   ]
  },
  {
   "cell_type": "code",
   "execution_count": null,
   "id": "92981895",
   "metadata": {},
   "outputs": [],
   "source": []
  }
 ],
 "metadata": {
  "kernelspec": {
   "display_name": "datahacks",
   "language": "python",
   "name": "datahacks"
  },
  "language_info": {
   "codemirror_mode": {
    "name": "ipython",
    "version": 3
   },
   "file_extension": ".py",
   "mimetype": "text/x-python",
   "name": "python",
   "nbconvert_exporter": "python",
   "pygments_lexer": "ipython3",
   "version": "3.8.8"
  }
 },
 "nbformat": 4,
 "nbformat_minor": 5
}
