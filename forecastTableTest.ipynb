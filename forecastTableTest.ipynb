{
 "cells": [
  {
   "cell_type": "code",
   "execution_count": 1,
   "id": "5e48dae5",
   "metadata": {},
   "outputs": [],
   "source": [
    "%load_ext autoreload\n",
    "%autoreload 2"
   ]
  },
  {
   "cell_type": "code",
   "execution_count": 3,
   "id": "c38a7ba0",
   "metadata": {},
   "outputs": [],
   "source": [
    "import numpy as np\n",
    "import pandas as pd\n",
    "from prophet import Prophet\n",
    "from forecastTable import forecastTable"
   ]
  },
  {
   "cell_type": "code",
   "execution_count": 5,
   "id": "a0553496",
   "metadata": {},
   "outputs": [],
   "source": [
    "train_obs = pd.read_csv(\"data/observations_train.csv\")\n",
    "test_obs = pd.read_csv(\"data/observations_test.csv\")\n",
    "series = pd.read_csv(\"data/series.csv\")"
   ]
  },
  {
   "cell_type": "code",
   "execution_count": null,
   "id": "54e50b59",
   "metadata": {},
   "outputs": [],
   "source": []
  }
 ],
 "metadata": {
  "kernelspec": {
   "display_name": "datahacks",
   "language": "python",
   "name": "datahacks"
  },
  "language_info": {
   "codemirror_mode": {
    "name": "ipython",
    "version": 3
   },
   "file_extension": ".py",
   "mimetype": "text/x-python",
   "name": "python",
   "nbconvert_exporter": "python",
   "pygments_lexer": "ipython3",
   "version": "3.8.8"
  }
 },
 "nbformat": 4,
 "nbformat_minor": 5
}
